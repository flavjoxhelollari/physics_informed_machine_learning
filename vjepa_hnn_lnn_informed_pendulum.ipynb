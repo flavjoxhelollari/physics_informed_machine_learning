{
 "cells": [
  {
   "cell_type": "code",
   "execution_count": null,
   "id": "53ac7b71",
   "metadata": {},
   "outputs": [],
   "source": [
    "from hamiltonian_nn.hnn import HNN                  # Sam Greydanus repo file\n",
    "from hamiltonian_nn.nn_models import MLP            # 3-layer MLP the repo already uses\n",
    "import torch\n",
    "import torch.nn.functional as F\n",
    "import matplotlib.pyplot as plt\n",
    "from sklearn.linear_model import LinearRegression\n",
    "from sklearn.metrics import r2_score, mean_squared_error\n",
    "import numpy as np\n",
    "from torch.utils.data import DataLoader\n",
    "from tqdm import tqdm\n",
    "import os\n",
    "import torch.nn as nn\n",
    "import torch.optim as optim\n",
    "from torch.utils.data import Dataset, DataLoader\n",
    "import gym\n",
    "from torchvision import transforms\n",
    "from PIL import Image, ImageDraw"
   ]
  },
  {
   "cell_type": "code",
   "execution_count": 4,
   "id": "9904f615",
   "metadata": {},
   "outputs": [],
   "source": [
    "def compute_energy(theta, omega, m=1.0, l=1.0, g=9.81):\n",
    "    \"\"\"\n",
    "    Compute the total mechanical energy of the pendulum\n",
    "    E = 0.5 * m * l^2 * omega^2 + m * g * l * (1 - cos(theta))\n",
    "    \"\"\"\n",
    "    kinetic = 0.5 * m * (l**2) * omega**2\n",
    "    potential = m * g * l * (1 - np.cos(theta))\n",
    "    return kinetic + potential"
   ]
  },
  {
   "cell_type": "code",
   "execution_count": 5,
   "id": "3f2cfe15",
   "metadata": {},
   "outputs": [],
   "source": [
    "def plot_energy_per_episode(dataset, episode_length=100):\n",
    "    thetas = []\n",
    "    omegas = []\n",
    "    energies = []\n",
    "    num_episodes = len(dataset) // episode_length\n",
    "\n",
    "    for ep in range(num_episodes):\n",
    "        ep_thetas = []\n",
    "        ep_omegas = []\n",
    "        for i in range(episode_length):\n",
    "            idx = ep * episode_length + i\n",
    "            _, label = dataset[idx]\n",
    "            ep_thetas.append(label[0].item())\n",
    "            ep_omegas.append(label[1].item())\n",
    "        theta_np = np.array(ep_thetas)\n",
    "        omega_np = np.array(ep_omegas)\n",
    "        energy = compute_energy(theta_np, omega_np)\n",
    "        energies.append(energy)\n",
    "\n",
    "    # Plot each episode separately\n",
    "    plt.figure(figsize=(12, 4))\n",
    "    for ep_energy in energies:\n",
    "        plt.plot(ep_energy, alpha=0.7)\n",
    "    plt.xlabel(\"Time Step (within episode)\")\n",
    "    plt.ylabel(\"Energy (J)\")\n",
    "    plt.title(\"Pendulum Energy per Episode\")\n",
    "    plt.grid(True)\n",
    "    plt.tight_layout()\n",
    "    plt.savefig(\"energy_per_episode.png\")\n",
    "    plt.show()\n"
   ]
  },
  {
   "cell_type": "code",
   "execution_count": 6,
   "id": "9e8ca3a6",
   "metadata": {},
   "outputs": [],
   "source": [
    "def plot_true_phase_space(dataset, num_samples=500):\n",
    "    theta_vals = []\n",
    "    omega_vals = []\n",
    "    for i in range(min(num_samples, len(dataset))):\n",
    "        _, label = dataset[i]\n",
    "        theta_vals.append(label[0].item())\n",
    "        omega_vals.append(label[1].item())\n",
    "\n",
    "    plt.figure(figsize=(6, 5))\n",
    "    plt.plot(theta_vals, omega_vals, '.', alpha=0.3)\n",
    "    plt.xlabel(\"Theta (rad)\")\n",
    "    plt.ylabel(\"Theta dot (rad/s)\")\n",
    "    plt.title(\"True Phase Space Trajectory (θ vs θ̇)\")\n",
    "    plt.grid(True)\n",
    "    plt.tight_layout()\n",
    "    plt.savefig(\"true_phase_space.png\")\n",
    "    plt.show()"
   ]
  },
  {
   "cell_type": "code",
   "execution_count": 7,
   "id": "e8342621",
   "metadata": {},
   "outputs": [],
   "source": [
    "def analyze_vjepa_latent_phase_relation(model, dataset, batch_size=64, num_samples=500):\n",
    "    \"\"\"\n",
    "    Analyze how V-JEPA latent embeddings relate to physical phase space variables (theta, theta_dot).\n",
    "    This assumes access to the latent features before the prediction head.\n",
    "\n",
    "    Args:\n",
    "        model: trained V-JEPA model\n",
    "        dataset: PendulumDataset object with access to raw images and (theta, omega) tuples\n",
    "        batch_size: batch size for DataLoader\n",
    "        num_samples: number of samples to analyze\n",
    "    \"\"\"\n",
    "    model.eval()\n",
    "\n",
    "    loader = DataLoader(dataset, batch_size=batch_size, shuffle=True)\n",
    "    latent_features = []\n",
    "    theta_list = []\n",
    "    omega_list = []\n",
    "\n",
    "    count = 0\n",
    "    for imgs, labels in tqdm(loader, desc=\"Extracting embeddings\"):\n",
    "        imgs = imgs.to(next(model.parameters()).device)\n",
    "        thetas, omegas = labels[:, 0], labels[:, 1]\n",
    "\n",
    "        with torch.no_grad():\n",
    "            x = model.patch_embed(imgs) + model.pos_embed  # [B, N, D]\n",
    "            x = model.context_encoder(x)  # [B, N, D]\n",
    "            pooled = x.mean(dim=1)  # average pooling over patches -> [B, D]\n",
    "            latent_features.append(pooled.cpu())\n",
    "\n",
    "        theta_list.extend(thetas.numpy())\n",
    "        omega_list.extend(omegas.numpy())\n",
    "\n",
    "        count += imgs.size(0)\n",
    "        if count >= num_samples:\n",
    "            break\n",
    "\n",
    "    latent_features = torch.cat(latent_features, dim=0).numpy()[:num_samples]\n",
    "    theta_array = np.array(theta_list[:num_samples]).reshape(-1, 1)\n",
    "    omega_array = np.array(omega_list[:num_samples]).reshape(-1, 1)\n",
    "\n",
    "    # Fit regressors\n",
    "    reg_theta = LinearRegression().fit(latent_features, theta_array)\n",
    "    reg_omega = LinearRegression().fit(latent_features, omega_array)\n",
    "\n",
    "    theta_pred = reg_theta.predict(latent_features)\n",
    "    omega_pred = reg_omega.predict(latent_features)\n",
    "\n",
    "    # Metrics\n",
    "    r2_theta = r2_score(theta_array, theta_pred)\n",
    "    r2_omega = r2_score(omega_array, omega_pred)\n",
    "    mse_theta = mean_squared_error(theta_array, theta_pred)\n",
    "    mse_omega = mean_squared_error(omega_array, omega_pred)\n",
    "\n",
    "    print(f\"\\nLatent -> Theta R²: {r2_theta:.4f}, MSE: {mse_theta:.4f}\")\n",
    "    print(f\"Latent -> Omega R²: {r2_omega:.4f}, MSE: {mse_omega:.4f}\")\n",
    "\n",
    "    # Scatter plot\n",
    "    plt.figure(figsize=(12, 5))\n",
    "    plt.subplot(1, 2, 1)\n",
    "    plt.scatter(theta_array, theta_pred, alpha=0.6)\n",
    "    plt.xlabel(\"True θ\")\n",
    "    plt.ylabel(\"Predicted θ from Latents\")\n",
    "    plt.title(\"Latent Embedding → Theta\")\n",
    "\n",
    "    plt.subplot(1, 2, 2)\n",
    "    plt.scatter(omega_array, omega_pred, alpha=0.6)\n",
    "    plt.xlabel(\"True θ̇\")\n",
    "    plt.ylabel(\"Predicted θ̇ from Latents\")\n",
    "    plt.title(\"Latent Embedding → Theta_dot\")\n",
    "\n",
    "    plt.tight_layout()\n",
    "    plt.show()\n"
   ]
  },
  {
   "cell_type": "code",
   "execution_count": 44,
   "id": "ac81539f",
   "metadata": {},
   "outputs": [],
   "source": [
    "def plot_energy_conservation(dataset, dt=0.05, m=1.0, l=1.0, g=9.81):\n",
    "    \"\"\"\n",
    "    Plot total mechanical energy vs. time (seconds).\n",
    "\n",
    "    • Works with the original PendulumDataset (attributes .labels)\n",
    "      *and* with the windowed version that stores .states.\n",
    "\n",
    "    • dt – time delta between successive frames; Gym's pendulum uses\n",
    "      0.05 s by default.\n",
    "    \"\"\"\n",
    "    import numpy as np, matplotlib.pyplot as plt\n",
    "\n",
    "    # -------- pull θ and θ̇ from whichever attr exists -------------\n",
    "    if hasattr(dataset, \"states\"):               # windowed version\n",
    "        data = np.asarray(dataset.states)        # (N,2)\n",
    "    elif hasattr(dataset, \"labels\"):             # flat version\n",
    "        data = np.asarray(dataset.labels)\n",
    "    else:\n",
    "        # fallback: iterate through dataset\n",
    "        data = np.concatenate([dataset[i][1].numpy() for i in range(len(dataset))])\n",
    "\n",
    "    theta, theta_dot = data[:,0], data[:,1]\n",
    "\n",
    "    # -------- energy ----------------------------------------------\n",
    "    kinetic   = 0.5 * m * (l**2) * theta_dot**2          # ½ m (l θ̇)²\n",
    "    potential = m * g * l * (1 - np.cos(theta))\n",
    "    E_total   = kinetic + potential\n",
    "\n",
    "    # -------- time axis in seconds -------------------------------\n",
    "    t = np.arange(len(E_total)) * dt\n",
    "\n",
    "    # -------- plot ------------------------------------------------\n",
    "    plt.figure(figsize=(10,4))\n",
    "    plt.plot(t, E_total, lw=1.0, label=\"Total Energy\")\n",
    "    plt.xlabel(\"time  [s]\")\n",
    "    plt.ylabel(\"energy  [J]\")\n",
    "    plt.title(\"Pendulum energy (ground-truth)\")\n",
    "    plt.grid(True); plt.tight_layout(); plt.legend()\n",
    "    plt.show()"
   ]
  },
  {
   "cell_type": "code",
   "execution_count": null,
   "id": "9d6ceb87",
   "metadata": {},
   "outputs": [
    {
     "name": "stdout",
     "output_type": "stream",
     "text": [
      "Using device: cpu\n",
      "Generating synthetic pendulum data...\n"
     ]
    },
    {
     "name": "stderr",
     "output_type": "stream",
     "text": [
      "  0%|          | 0/50 [00:00<?, ?it/s]/Users/panaschristou/miniforge3/envs/sys_dev/lib/python3.12/site-packages/gym/utils/passive_env_checker.py:233: DeprecationWarning: `np.bool8` is a deprecated alias for `np.bool_`.  (Deprecated NumPy 1.24)\n",
      "  if not isinstance(terminated, (bool, np.bool8)):\n",
      "100%|██████████| 50/50 [00:00<00:00, 171.31it/s]\n"
     ]
    },
    {
     "name": "stdout",
     "output_type": "stream",
     "text": [
      "Dataset created with 5000 images\n",
      "Starting training…\n"
     ]
    },
    {
     "name": "stderr",
     "output_type": "stream",
     "text": [
      "Epoch 1/10:   1%|          | 1/157 [00:01<04:04,  1.57s/batch]"
     ]
    },
    {
     "name": "stdout",
     "output_type": "stream",
     "text": [
      "  step 0000  jepa 6.6744  phys 12.6870\n"
     ]
    },
    {
     "name": "stderr",
     "output_type": "stream",
     "text": [
      "Epoch 1/10:   7%|▋         | 11/157 [00:12<02:28,  1.02s/batch]"
     ]
    },
    {
     "name": "stdout",
     "output_type": "stream",
     "text": [
      "  step 0010  jepa 4.0879  phys 11.2308\n"
     ]
    },
    {
     "name": "stderr",
     "output_type": "stream",
     "text": [
      "Epoch 1/10:  13%|█▎        | 21/157 [00:22<02:22,  1.05s/batch]"
     ]
    },
    {
     "name": "stdout",
     "output_type": "stream",
     "text": [
      "  step 0020  jepa 3.7061  phys 12.1956\n"
     ]
    },
    {
     "name": "stderr",
     "output_type": "stream",
     "text": [
      "Epoch 1/10:  20%|█▉        | 31/157 [00:35<02:55,  1.39s/batch]"
     ]
    },
    {
     "name": "stdout",
     "output_type": "stream",
     "text": [
      "  step 0030  jepa 3.2914  phys 14.9916\n"
     ]
    },
    {
     "name": "stderr",
     "output_type": "stream",
     "text": [
      "Epoch 1/10:  26%|██▌       | 41/157 [00:47<02:22,  1.23s/batch]"
     ]
    },
    {
     "name": "stdout",
     "output_type": "stream",
     "text": [
      "  step 0040  jepa 2.9035  phys 13.4320\n"
     ]
    },
    {
     "name": "stderr",
     "output_type": "stream",
     "text": [
      "Epoch 1/10:  32%|███▏      | 51/157 [00:59<01:56,  1.10s/batch]"
     ]
    },
    {
     "name": "stdout",
     "output_type": "stream",
     "text": [
      "  step 0050  jepa 2.5216  phys 12.5829\n"
     ]
    },
    {
     "name": "stderr",
     "output_type": "stream",
     "text": [
      "Epoch 1/10:  39%|███▉      | 61/157 [01:10<01:42,  1.06s/batch]"
     ]
    },
    {
     "name": "stdout",
     "output_type": "stream",
     "text": [
      "  step 0060  jepa 2.1753  phys 14.8146\n"
     ]
    },
    {
     "name": "stderr",
     "output_type": "stream",
     "text": [
      "Epoch 1/10:  45%|████▌     | 71/157 [01:20<01:25,  1.01batch/s]"
     ]
    },
    {
     "name": "stdout",
     "output_type": "stream",
     "text": [
      "  step 0070  jepa 1.8865  phys 7.6687\n"
     ]
    },
    {
     "name": "stderr",
     "output_type": "stream",
     "text": [
      "Epoch 1/10:  52%|█████▏    | 81/157 [01:30<01:16,  1.01s/batch]"
     ]
    },
    {
     "name": "stdout",
     "output_type": "stream",
     "text": [
      "  step 0080  jepa 1.6983  phys 5.4741\n"
     ]
    },
    {
     "name": "stderr",
     "output_type": "stream",
     "text": [
      "Epoch 1/10:  58%|█████▊    | 91/157 [01:40<01:05,  1.01batch/s]"
     ]
    },
    {
     "name": "stdout",
     "output_type": "stream",
     "text": [
      "  step 0090  jepa 1.5432  phys 11.3039\n"
     ]
    },
    {
     "name": "stderr",
     "output_type": "stream",
     "text": [
      "Epoch 1/10:  64%|██████▍   | 101/157 [01:50<00:55,  1.02batch/s]"
     ]
    },
    {
     "name": "stdout",
     "output_type": "stream",
     "text": [
      "  step 0100  jepa 1.4496  phys 11.2730\n"
     ]
    },
    {
     "name": "stderr",
     "output_type": "stream",
     "text": [
      "Epoch 1/10:  71%|███████   | 111/157 [02:00<00:45,  1.00batch/s]"
     ]
    },
    {
     "name": "stdout",
     "output_type": "stream",
     "text": [
      "  step 0110  jepa 1.3801  phys 15.4362\n"
     ]
    },
    {
     "name": "stderr",
     "output_type": "stream",
     "text": [
      "Epoch 1/10:  77%|███████▋  | 121/157 [02:09<00:35,  1.03batch/s]"
     ]
    },
    {
     "name": "stdout",
     "output_type": "stream",
     "text": [
      "  step 0120  jepa 1.3348  phys 14.3269\n"
     ]
    },
    {
     "name": "stderr",
     "output_type": "stream",
     "text": [
      "Epoch 1/10:  83%|████████▎ | 131/157 [02:19<00:25,  1.02batch/s]"
     ]
    },
    {
     "name": "stdout",
     "output_type": "stream",
     "text": [
      "  step 0130  jepa 1.2991  phys 13.4191\n"
     ]
    },
    {
     "name": "stderr",
     "output_type": "stream",
     "text": [
      "Epoch 1/10:  90%|████████▉ | 141/157 [02:29<00:15,  1.01batch/s]"
     ]
    },
    {
     "name": "stdout",
     "output_type": "stream",
     "text": [
      "  step 0140  jepa 1.2848  phys 9.1446\n"
     ]
    },
    {
     "name": "stderr",
     "output_type": "stream",
     "text": [
      "Epoch 1/10:  96%|█████████▌| 151/157 [02:39<00:05,  1.01batch/s]"
     ]
    },
    {
     "name": "stdout",
     "output_type": "stream",
     "text": [
      "  step 0150  jepa 1.2776  phys 16.6309\n"
     ]
    },
    {
     "name": "stderr",
     "output_type": "stream",
     "text": [
      "Epoch 1/10: 100%|██████████| 157/157 [02:44<00:00,  1.05s/batch]\n"
     ]
    },
    {
     "name": "stdout",
     "output_type": "stream",
     "text": [
      "Epoch 1 complete — avg loss 2.2683\n"
     ]
    },
    {
     "name": "stderr",
     "output_type": "stream",
     "text": [
      "Epoch 2/10:   1%|          | 1/157 [00:01<02:43,  1.05s/batch]"
     ]
    },
    {
     "name": "stdout",
     "output_type": "stream",
     "text": [
      "  step 0000  jepa 1.2570  phys 13.0413\n"
     ]
    },
    {
     "name": "stderr",
     "output_type": "stream",
     "text": [
      "Epoch 2/10:   7%|▋         | 11/157 [00:10<02:25,  1.01batch/s]"
     ]
    },
    {
     "name": "stdout",
     "output_type": "stream",
     "text": [
      "  step 0010  jepa 1.2512  phys 12.0327\n"
     ]
    },
    {
     "name": "stderr",
     "output_type": "stream",
     "text": [
      "Epoch 2/10:  13%|█▎        | 21/157 [00:20<02:15,  1.01batch/s]"
     ]
    },
    {
     "name": "stdout",
     "output_type": "stream",
     "text": [
      "  step 0020  jepa 1.2365  phys 14.5234\n"
     ]
    },
    {
     "name": "stderr",
     "output_type": "stream",
     "text": [
      "Epoch 2/10:  20%|█▉        | 31/157 [00:30<02:03,  1.02batch/s]"
     ]
    },
    {
     "name": "stdout",
     "output_type": "stream",
     "text": [
      "  step 0030  jepa 1.2306  phys 7.4452\n"
     ]
    },
    {
     "name": "stderr",
     "output_type": "stream",
     "text": [
      "Epoch 2/10:  26%|██▌       | 41/157 [00:40<01:53,  1.02batch/s]"
     ]
    },
    {
     "name": "stdout",
     "output_type": "stream",
     "text": [
      "  step 0040  jepa 1.2194  phys 7.1836\n"
     ]
    },
    {
     "name": "stderr",
     "output_type": "stream",
     "text": [
      "Epoch 2/10:  32%|███▏      | 51/157 [00:50<01:43,  1.03batch/s]"
     ]
    },
    {
     "name": "stdout",
     "output_type": "stream",
     "text": [
      "  step 0050  jepa 1.2302  phys 15.6003\n"
     ]
    },
    {
     "name": "stderr",
     "output_type": "stream",
     "text": [
      "Epoch 2/10:  39%|███▉      | 61/157 [01:00<01:34,  1.02batch/s]"
     ]
    },
    {
     "name": "stdout",
     "output_type": "stream",
     "text": [
      "  step 0060  jepa 1.1984  phys 9.9708\n"
     ]
    },
    {
     "name": "stderr",
     "output_type": "stream",
     "text": [
      "Epoch 2/10:  45%|████▌     | 71/157 [01:10<01:25,  1.00batch/s]"
     ]
    },
    {
     "name": "stdout",
     "output_type": "stream",
     "text": [
      "  step 0070  jepa 1.2042  phys 10.7502\n"
     ]
    },
    {
     "name": "stderr",
     "output_type": "stream",
     "text": [
      "Epoch 2/10:  52%|█████▏    | 81/157 [01:20<01:18,  1.03s/batch]"
     ]
    },
    {
     "name": "stdout",
     "output_type": "stream",
     "text": [
      "  step 0080  jepa 1.1743  phys 15.7733\n"
     ]
    },
    {
     "name": "stderr",
     "output_type": "stream",
     "text": [
      "Epoch 2/10:  58%|█████▊    | 91/157 [01:30<01:05,  1.01batch/s]"
     ]
    },
    {
     "name": "stdout",
     "output_type": "stream",
     "text": [
      "  step 0090  jepa 1.1609  phys 10.0081\n"
     ]
    },
    {
     "name": "stderr",
     "output_type": "stream",
     "text": [
      "Epoch 2/10:  64%|██████▍   | 101/157 [01:40<00:55,  1.01batch/s]"
     ]
    },
    {
     "name": "stdout",
     "output_type": "stream",
     "text": [
      "  step 0100  jepa 1.1565  phys 12.4168\n"
     ]
    },
    {
     "name": "stderr",
     "output_type": "stream",
     "text": [
      "Epoch 2/10:  71%|███████   | 111/157 [01:50<00:44,  1.02batch/s]"
     ]
    },
    {
     "name": "stdout",
     "output_type": "stream",
     "text": [
      "  step 0110  jepa 1.1494  phys 16.5670\n"
     ]
    },
    {
     "name": "stderr",
     "output_type": "stream",
     "text": [
      "Epoch 2/10:  77%|███████▋  | 121/157 [02:00<00:35,  1.01batch/s]"
     ]
    },
    {
     "name": "stdout",
     "output_type": "stream",
     "text": [
      "  step 0120  jepa 1.1315  phys 11.8603\n"
     ]
    },
    {
     "name": "stderr",
     "output_type": "stream",
     "text": [
      "Epoch 2/10:  83%|████████▎ | 131/157 [02:10<00:25,  1.02batch/s]"
     ]
    },
    {
     "name": "stdout",
     "output_type": "stream",
     "text": [
      "  step 0130  jepa 1.1272  phys 9.9457\n"
     ]
    },
    {
     "name": "stderr",
     "output_type": "stream",
     "text": [
      "Epoch 2/10:  90%|████████▉ | 141/157 [02:20<00:16,  1.03s/batch]"
     ]
    },
    {
     "name": "stdout",
     "output_type": "stream",
     "text": [
      "  step 0140  jepa 1.1225  phys 11.1913\n"
     ]
    },
    {
     "name": "stderr",
     "output_type": "stream",
     "text": [
      "Epoch 2/10:  96%|█████████▌| 151/157 [02:30<00:05,  1.02batch/s]"
     ]
    },
    {
     "name": "stdout",
     "output_type": "stream",
     "text": [
      "  step 0150  jepa 1.1064  phys 13.9374\n"
     ]
    },
    {
     "name": "stderr",
     "output_type": "stream",
     "text": [
      "Epoch 2/10: 100%|██████████| 157/157 [02:35<00:00,  1.01batch/s]\n"
     ]
    },
    {
     "name": "stdout",
     "output_type": "stream",
     "text": [
      "Epoch 2 complete — avg loss 1.1987\n"
     ]
    },
    {
     "name": "stderr",
     "output_type": "stream",
     "text": [
      "Epoch 3/10:   1%|          | 1/157 [00:00<02:31,  1.03batch/s]"
     ]
    },
    {
     "name": "stdout",
     "output_type": "stream",
     "text": [
      "  step 0000  jepa 1.1305  phys 9.2558\n"
     ]
    },
    {
     "name": "stderr",
     "output_type": "stream",
     "text": [
      "Epoch 3/10:   7%|▋         | 11/157 [00:10<02:23,  1.01batch/s]"
     ]
    },
    {
     "name": "stdout",
     "output_type": "stream",
     "text": [
      "  step 0010  jepa 1.0989  phys 10.1389\n"
     ]
    },
    {
     "name": "stderr",
     "output_type": "stream",
     "text": [
      "Epoch 3/10:  13%|█▎        | 21/157 [00:20<02:13,  1.02batch/s]"
     ]
    },
    {
     "name": "stdout",
     "output_type": "stream",
     "text": [
      "  step 0020  jepa 1.1050  phys 11.7800\n"
     ]
    },
    {
     "name": "stderr",
     "output_type": "stream",
     "text": [
      "Epoch 3/10:  20%|█▉        | 31/157 [00:30<02:05,  1.00batch/s]"
     ]
    },
    {
     "name": "stdout",
     "output_type": "stream",
     "text": [
      "  step 0030  jepa 1.0945  phys 12.7500\n"
     ]
    },
    {
     "name": "stderr",
     "output_type": "stream",
     "text": [
      "Epoch 3/10:  26%|██▌       | 41/157 [00:40<01:54,  1.01batch/s]"
     ]
    },
    {
     "name": "stdout",
     "output_type": "stream",
     "text": [
      "  step 0040  jepa 1.0772  phys 14.0412\n"
     ]
    },
    {
     "name": "stderr",
     "output_type": "stream",
     "text": [
      "Epoch 3/10:  32%|███▏      | 51/157 [00:51<01:49,  1.04s/batch]"
     ]
    },
    {
     "name": "stdout",
     "output_type": "stream",
     "text": [
      "  step 0050  jepa 1.0908  phys 11.9028\n"
     ]
    },
    {
     "name": "stderr",
     "output_type": "stream",
     "text": [
      "Epoch 3/10:  39%|███▉      | 61/157 [01:01<01:34,  1.01batch/s]"
     ]
    },
    {
     "name": "stdout",
     "output_type": "stream",
     "text": [
      "  step 0060  jepa 1.0812  phys 11.2369\n"
     ]
    },
    {
     "name": "stderr",
     "output_type": "stream",
     "text": [
      "Epoch 3/10:  45%|████▌     | 71/157 [01:11<01:25,  1.00batch/s]"
     ]
    },
    {
     "name": "stdout",
     "output_type": "stream",
     "text": [
      "  step 0070  jepa 1.0697  phys 12.8889\n"
     ]
    },
    {
     "name": "stderr",
     "output_type": "stream",
     "text": [
      "Epoch 3/10:  52%|█████▏    | 81/157 [01:20<01:14,  1.02batch/s]"
     ]
    },
    {
     "name": "stdout",
     "output_type": "stream",
     "text": [
      "  step 0080  jepa 1.0685  phys 10.4936\n"
     ]
    },
    {
     "name": "stderr",
     "output_type": "stream",
     "text": [
      "Epoch 3/10:  58%|█████▊    | 91/157 [01:31<01:07,  1.02s/batch]"
     ]
    },
    {
     "name": "stdout",
     "output_type": "stream",
     "text": [
      "  step 0090  jepa 1.0794  phys 12.0602\n"
     ]
    },
    {
     "name": "stderr",
     "output_type": "stream",
     "text": [
      "Epoch 3/10:  64%|██████▍   | 101/157 [01:41<00:55,  1.00batch/s]"
     ]
    },
    {
     "name": "stdout",
     "output_type": "stream",
     "text": [
      "  step 0100  jepa 1.0720  phys 14.2368\n"
     ]
    },
    {
     "name": "stderr",
     "output_type": "stream",
     "text": [
      "Epoch 3/10:  71%|███████   | 111/157 [01:51<00:46,  1.00s/batch]"
     ]
    },
    {
     "name": "stdout",
     "output_type": "stream",
     "text": [
      "  step 0110  jepa 1.0560  phys 12.2799\n"
     ]
    },
    {
     "name": "stderr",
     "output_type": "stream",
     "text": [
      "Epoch 3/10:  77%|███████▋  | 121/157 [02:01<00:35,  1.01batch/s]"
     ]
    },
    {
     "name": "stdout",
     "output_type": "stream",
     "text": [
      "  step 0120  jepa 1.0773  phys 16.3502\n"
     ]
    },
    {
     "name": "stderr",
     "output_type": "stream",
     "text": [
      "Epoch 3/10:  83%|████████▎ | 131/157 [02:11<00:25,  1.02batch/s]"
     ]
    },
    {
     "name": "stdout",
     "output_type": "stream",
     "text": [
      "  step 0130  jepa 1.0672  phys 9.3938\n"
     ]
    },
    {
     "name": "stderr",
     "output_type": "stream",
     "text": [
      "Epoch 3/10:  90%|████████▉ | 141/157 [02:21<00:16,  1.04s/batch]"
     ]
    },
    {
     "name": "stdout",
     "output_type": "stream",
     "text": [
      "  step 0140  jepa 1.0575  phys 13.8783\n"
     ]
    },
    {
     "name": "stderr",
     "output_type": "stream",
     "text": [
      "Epoch 3/10:  96%|█████████▌| 151/157 [02:31<00:06,  1.00s/batch]"
     ]
    },
    {
     "name": "stdout",
     "output_type": "stream",
     "text": [
      "  step 0150  jepa 1.0796  phys 10.4135\n"
     ]
    },
    {
     "name": "stderr",
     "output_type": "stream",
     "text": [
      "Epoch 3/10: 100%|██████████| 157/157 [02:36<00:00,  1.00batch/s]\n"
     ]
    },
    {
     "name": "stdout",
     "output_type": "stream",
     "text": [
      "Epoch 3 complete — avg loss 1.0916\n"
     ]
    },
    {
     "name": "stderr",
     "output_type": "stream",
     "text": [
      "Epoch 4/10:   1%|          | 1/157 [00:00<02:35,  1.01batch/s]"
     ]
    },
    {
     "name": "stdout",
     "output_type": "stream",
     "text": [
      "  step 0000  jepa 1.0696  phys 12.3960\n"
     ]
    },
    {
     "name": "stderr",
     "output_type": "stream",
     "text": [
      "Epoch 4/10:   7%|▋         | 11/157 [00:11<02:33,  1.05s/batch]"
     ]
    },
    {
     "name": "stdout",
     "output_type": "stream",
     "text": [
      "  step 0010  jepa 1.0644  phys 12.7488\n"
     ]
    },
    {
     "name": "stderr",
     "output_type": "stream",
     "text": [
      "Epoch 4/10:  13%|█▎        | 21/157 [00:21<02:14,  1.01batch/s]"
     ]
    },
    {
     "name": "stdout",
     "output_type": "stream",
     "text": [
      "  step 0020  jepa 1.0550  phys 13.4849\n"
     ]
    },
    {
     "name": "stderr",
     "output_type": "stream",
     "text": [
      "Epoch 4/10:  20%|█▉        | 31/157 [00:31<02:03,  1.02batch/s]"
     ]
    },
    {
     "name": "stdout",
     "output_type": "stream",
     "text": [
      "  step 0030  jepa 1.0526  phys 15.4744\n"
     ]
    },
    {
     "name": "stderr",
     "output_type": "stream",
     "text": [
      "Epoch 4/10:  26%|██▌       | 41/157 [00:41<01:55,  1.00batch/s]"
     ]
    },
    {
     "name": "stdout",
     "output_type": "stream",
     "text": [
      "  step 0040  jepa 1.0577  phys 13.1281\n"
     ]
    },
    {
     "name": "stderr",
     "output_type": "stream",
     "text": [
      "Epoch 4/10:  32%|███▏      | 51/157 [00:50<01:43,  1.02batch/s]"
     ]
    },
    {
     "name": "stdout",
     "output_type": "stream",
     "text": [
      "  step 0050  jepa 1.0641  phys 12.4595\n"
     ]
    },
    {
     "name": "stderr",
     "output_type": "stream",
     "text": [
      "Epoch 4/10:  39%|███▉      | 61/157 [01:00<01:34,  1.02batch/s]"
     ]
    },
    {
     "name": "stdout",
     "output_type": "stream",
     "text": [
      "  step 0060  jepa 1.0568  phys 12.7684\n"
     ]
    },
    {
     "name": "stderr",
     "output_type": "stream",
     "text": [
      "Epoch 4/10:  45%|████▌     | 71/157 [01:10<01:24,  1.01batch/s]"
     ]
    },
    {
     "name": "stdout",
     "output_type": "stream",
     "text": [
      "  step 0070  jepa 1.0469  phys 14.7100\n"
     ]
    },
    {
     "name": "stderr",
     "output_type": "stream",
     "text": [
      "Epoch 4/10:  52%|█████▏    | 81/157 [01:20<01:14,  1.03batch/s]"
     ]
    },
    {
     "name": "stdout",
     "output_type": "stream",
     "text": [
      "  step 0080  jepa 1.0650  phys 9.5094\n"
     ]
    },
    {
     "name": "stderr",
     "output_type": "stream",
     "text": [
      "Epoch 4/10:  58%|█████▊    | 91/157 [01:30<01:05,  1.01batch/s]"
     ]
    },
    {
     "name": "stdout",
     "output_type": "stream",
     "text": [
      "  step 0090  jepa 1.0589  phys 12.6508\n"
     ]
    },
    {
     "name": "stderr",
     "output_type": "stream",
     "text": [
      "Epoch 4/10:  64%|██████▍   | 101/157 [01:40<00:55,  1.01batch/s]"
     ]
    },
    {
     "name": "stdout",
     "output_type": "stream",
     "text": [
      "  step 0100  jepa 1.0490  phys 12.3336\n"
     ]
    },
    {
     "name": "stderr",
     "output_type": "stream",
     "text": [
      "Epoch 4/10:  71%|███████   | 111/157 [01:50<00:46,  1.02s/batch]"
     ]
    },
    {
     "name": "stdout",
     "output_type": "stream",
     "text": [
      "  step 0110  jepa 1.0542  phys 8.8192\n"
     ]
    },
    {
     "name": "stderr",
     "output_type": "stream",
     "text": [
      "Epoch 4/10:  77%|███████▋  | 121/157 [02:00<00:35,  1.02batch/s]"
     ]
    },
    {
     "name": "stdout",
     "output_type": "stream",
     "text": [
      "  step 0120  jepa 1.0516  phys 12.7952\n"
     ]
    },
    {
     "name": "stderr",
     "output_type": "stream",
     "text": [
      "Epoch 4/10:  83%|████████▎ | 131/157 [02:09<00:26,  1.00s/batch]"
     ]
    },
    {
     "name": "stdout",
     "output_type": "stream",
     "text": [
      "  step 0130  jepa 1.0523  phys 13.0829\n"
     ]
    },
    {
     "name": "stderr",
     "output_type": "stream",
     "text": [
      "Epoch 4/10:  90%|████████▉ | 141/157 [02:20<00:17,  1.07s/batch]"
     ]
    },
    {
     "name": "stdout",
     "output_type": "stream",
     "text": [
      "  step 0140  jepa 1.0513  phys 9.4853\n"
     ]
    },
    {
     "name": "stderr",
     "output_type": "stream",
     "text": [
      "Epoch 4/10:  96%|█████████▌| 151/157 [02:31<00:06,  1.05s/batch]"
     ]
    },
    {
     "name": "stdout",
     "output_type": "stream",
     "text": [
      "  step 0150  jepa 1.0460  phys 12.6348\n"
     ]
    },
    {
     "name": "stderr",
     "output_type": "stream",
     "text": [
      "Epoch 4/10: 100%|██████████| 157/157 [02:36<00:00,  1.00batch/s]\n"
     ]
    },
    {
     "name": "stdout",
     "output_type": "stream",
     "text": [
      "Epoch 4 complete — avg loss 1.0668\n"
     ]
    },
    {
     "name": "stderr",
     "output_type": "stream",
     "text": [
      "Epoch 5/10:   1%|          | 1/157 [00:01<02:38,  1.01s/batch]"
     ]
    },
    {
     "name": "stdout",
     "output_type": "stream",
     "text": [
      "  step 0000  jepa 1.0473  phys 15.5088\n"
     ]
    },
    {
     "name": "stderr",
     "output_type": "stream",
     "text": [
      "Epoch 5/10:   7%|▋         | 11/157 [00:10<02:24,  1.01batch/s]"
     ]
    },
    {
     "name": "stdout",
     "output_type": "stream",
     "text": [
      "  step 0010  jepa 1.0416  phys 6.4078\n"
     ]
    },
    {
     "name": "stderr",
     "output_type": "stream",
     "text": [
      "Epoch 5/10:  13%|█▎        | 21/157 [00:20<02:13,  1.02batch/s]"
     ]
    },
    {
     "name": "stdout",
     "output_type": "stream",
     "text": [
      "  step 0020  jepa 1.0465  phys 17.0321\n"
     ]
    },
    {
     "name": "stderr",
     "output_type": "stream",
     "text": [
      "Epoch 5/10:  20%|█▉        | 31/157 [00:31<02:07,  1.01s/batch]"
     ]
    },
    {
     "name": "stdout",
     "output_type": "stream",
     "text": [
      "  step 0030  jepa 1.0450  phys 16.1715\n"
     ]
    },
    {
     "name": "stderr",
     "output_type": "stream",
     "text": [
      "Epoch 5/10:  26%|██▌       | 41/157 [00:40<01:53,  1.02batch/s]"
     ]
    },
    {
     "name": "stdout",
     "output_type": "stream",
     "text": [
      "  step 0040  jepa 1.0411  phys 10.8377\n"
     ]
    },
    {
     "name": "stderr",
     "output_type": "stream",
     "text": [
      "Epoch 5/10:  32%|███▏      | 51/157 [00:51<01:48,  1.03s/batch]"
     ]
    },
    {
     "name": "stdout",
     "output_type": "stream",
     "text": [
      "  step 0050  jepa 1.0380  phys 15.5140\n"
     ]
    },
    {
     "name": "stderr",
     "output_type": "stream",
     "text": [
      "Epoch 5/10:  39%|███▉      | 61/157 [01:00<01:34,  1.02batch/s]"
     ]
    },
    {
     "name": "stdout",
     "output_type": "stream",
     "text": [
      "  step 0060  jepa 1.0400  phys 17.0143\n"
     ]
    },
    {
     "name": "stderr",
     "output_type": "stream",
     "text": [
      "Epoch 5/10:  45%|████▌     | 71/157 [01:11<01:32,  1.07s/batch]"
     ]
    },
    {
     "name": "stdout",
     "output_type": "stream",
     "text": [
      "  step 0070  jepa 1.0370  phys 15.4827\n"
     ]
    },
    {
     "name": "stderr",
     "output_type": "stream",
     "text": [
      "Epoch 5/10:  52%|█████▏    | 81/157 [01:21<01:22,  1.08s/batch]"
     ]
    },
    {
     "name": "stdout",
     "output_type": "stream",
     "text": [
      "  step 0080  jepa 1.0443  phys 13.2859\n"
     ]
    },
    {
     "name": "stderr",
     "output_type": "stream",
     "text": [
      "Epoch 5/10:  58%|█████▊    | 91/157 [01:32<01:07,  1.03s/batch]"
     ]
    },
    {
     "name": "stdout",
     "output_type": "stream",
     "text": [
      "  step 0090  jepa 1.0355  phys 14.4607\n"
     ]
    },
    {
     "name": "stderr",
     "output_type": "stream",
     "text": [
      "Epoch 5/10:  64%|██████▍   | 101/157 [01:42<00:54,  1.03batch/s]"
     ]
    },
    {
     "name": "stdout",
     "output_type": "stream",
     "text": [
      "  step 0100  jepa 1.0408  phys 12.2806\n"
     ]
    },
    {
     "name": "stderr",
     "output_type": "stream",
     "text": [
      "Epoch 5/10:  71%|███████   | 111/157 [01:52<00:45,  1.02batch/s]"
     ]
    },
    {
     "name": "stdout",
     "output_type": "stream",
     "text": [
      "  step 0110  jepa 1.0360  phys 13.8428\n"
     ]
    },
    {
     "name": "stderr",
     "output_type": "stream",
     "text": [
      "Epoch 5/10:  77%|███████▋  | 121/157 [02:02<00:36,  1.01s/batch]"
     ]
    },
    {
     "name": "stdout",
     "output_type": "stream",
     "text": [
      "  step 0120  jepa 1.0454  phys 11.4627\n"
     ]
    },
    {
     "name": "stderr",
     "output_type": "stream",
     "text": [
      "Epoch 5/10:  83%|████████▎ | 131/157 [02:12<00:25,  1.01batch/s]"
     ]
    },
    {
     "name": "stdout",
     "output_type": "stream",
     "text": [
      "  step 0130  jepa 1.0379  phys 6.2662\n"
     ]
    },
    {
     "name": "stderr",
     "output_type": "stream",
     "text": [
      "Epoch 5/10:  90%|████████▉ | 141/157 [02:22<00:15,  1.01batch/s]"
     ]
    },
    {
     "name": "stdout",
     "output_type": "stream",
     "text": [
      "  step 0140  jepa 1.0390  phys 14.5644\n"
     ]
    },
    {
     "name": "stderr",
     "output_type": "stream",
     "text": [
      "Epoch 5/10:  96%|█████████▌| 151/157 [02:32<00:05,  1.02batch/s]"
     ]
    },
    {
     "name": "stdout",
     "output_type": "stream",
     "text": [
      "  step 0150  jepa 1.0402  phys 9.8788\n"
     ]
    },
    {
     "name": "stderr",
     "output_type": "stream",
     "text": [
      "Epoch 5/10: 100%|██████████| 157/157 [02:37<00:00,  1.00s/batch]\n"
     ]
    },
    {
     "name": "stdout",
     "output_type": "stream",
     "text": [
      "Epoch 5 complete — avg loss 1.0549\n"
     ]
    },
    {
     "name": "stderr",
     "output_type": "stream",
     "text": [
      "Epoch 6/10:   1%|          | 1/157 [00:00<02:34,  1.01batch/s]"
     ]
    },
    {
     "name": "stdout",
     "output_type": "stream",
     "text": [
      "  step 0000  jepa 1.0400  phys 9.3818\n"
     ]
    },
    {
     "name": "stderr",
     "output_type": "stream",
     "text": [
      "Epoch 6/10:   7%|▋         | 11/157 [00:10<02:23,  1.02batch/s]"
     ]
    },
    {
     "name": "stdout",
     "output_type": "stream",
     "text": [
      "  step 0010  jepa 1.0454  phys 18.0283\n"
     ]
    },
    {
     "name": "stderr",
     "output_type": "stream",
     "text": [
      "Epoch 6/10:  13%|█▎        | 21/157 [00:20<02:12,  1.02batch/s]"
     ]
    },
    {
     "name": "stdout",
     "output_type": "stream",
     "text": [
      "  step 0020  jepa 1.0402  phys 7.0456\n"
     ]
    },
    {
     "name": "stderr",
     "output_type": "stream",
     "text": [
      "Epoch 6/10:  20%|█▉        | 31/157 [00:30<02:04,  1.01batch/s]"
     ]
    },
    {
     "name": "stdout",
     "output_type": "stream",
     "text": [
      "  step 0030  jepa 1.0347  phys 9.9888\n"
     ]
    },
    {
     "name": "stderr",
     "output_type": "stream",
     "text": [
      "Epoch 6/10:  26%|██▌       | 41/157 [00:40<01:54,  1.02batch/s]"
     ]
    },
    {
     "name": "stdout",
     "output_type": "stream",
     "text": [
      "  step 0040  jepa 1.0458  phys 11.9506\n"
     ]
    },
    {
     "name": "stderr",
     "output_type": "stream",
     "text": [
      "Epoch 6/10:  32%|███▏      | 51/157 [00:50<01:44,  1.02batch/s]"
     ]
    },
    {
     "name": "stdout",
     "output_type": "stream",
     "text": [
      "  step 0050  jepa 1.0363  phys 14.0589\n"
     ]
    },
    {
     "name": "stderr",
     "output_type": "stream",
     "text": [
      "Epoch 6/10:  39%|███▉      | 61/157 [01:00<01:34,  1.02batch/s]"
     ]
    },
    {
     "name": "stdout",
     "output_type": "stream",
     "text": [
      "  step 0060  jepa 1.0431  phys 13.1423\n"
     ]
    },
    {
     "name": "stderr",
     "output_type": "stream",
     "text": [
      "Epoch 6/10:  45%|████▌     | 71/157 [01:10<01:24,  1.02batch/s]"
     ]
    },
    {
     "name": "stdout",
     "output_type": "stream",
     "text": [
      "  step 0070  jepa 1.0347  phys 10.9393\n"
     ]
    },
    {
     "name": "stderr",
     "output_type": "stream",
     "text": [
      "Epoch 6/10:  52%|█████▏    | 81/157 [01:20<01:15,  1.01batch/s]"
     ]
    },
    {
     "name": "stdout",
     "output_type": "stream",
     "text": [
      "  step 0080  jepa 1.0245  phys 11.4979\n"
     ]
    },
    {
     "name": "stderr",
     "output_type": "stream",
     "text": [
      "Epoch 6/10:  58%|█████▊    | 91/157 [01:30<01:04,  1.02batch/s]"
     ]
    },
    {
     "name": "stdout",
     "output_type": "stream",
     "text": [
      "  step 0090  jepa 1.0329  phys 11.8450\n"
     ]
    },
    {
     "name": "stderr",
     "output_type": "stream",
     "text": [
      "Epoch 6/10:  64%|██████▍   | 101/157 [01:40<00:55,  1.00batch/s]"
     ]
    },
    {
     "name": "stdout",
     "output_type": "stream",
     "text": [
      "  step 0100  jepa 1.0350  phys 7.4854\n"
     ]
    },
    {
     "name": "stderr",
     "output_type": "stream",
     "text": [
      "Epoch 6/10:  71%|███████   | 111/157 [01:50<00:45,  1.00batch/s]"
     ]
    },
    {
     "name": "stdout",
     "output_type": "stream",
     "text": [
      "  step 0110  jepa 1.0339  phys 8.4010\n"
     ]
    },
    {
     "name": "stderr",
     "output_type": "stream",
     "text": [
      "Epoch 6/10:  77%|███████▋  | 121/157 [02:00<00:35,  1.01batch/s]"
     ]
    },
    {
     "name": "stdout",
     "output_type": "stream",
     "text": [
      "  step 0120  jepa 1.0270  phys 13.1258\n"
     ]
    },
    {
     "name": "stderr",
     "output_type": "stream",
     "text": [
      "Epoch 6/10:  83%|████████▎ | 131/157 [02:10<00:25,  1.02batch/s]"
     ]
    },
    {
     "name": "stdout",
     "output_type": "stream",
     "text": [
      "  step 0130  jepa 1.0339  phys 11.6383\n"
     ]
    },
    {
     "name": "stderr",
     "output_type": "stream",
     "text": [
      "Epoch 6/10:  90%|████████▉ | 141/157 [02:20<00:16,  1.03s/batch]"
     ]
    },
    {
     "name": "stdout",
     "output_type": "stream",
     "text": [
      "  step 0140  jepa 1.0338  phys 9.4718\n"
     ]
    },
    {
     "name": "stderr",
     "output_type": "stream",
     "text": [
      "Epoch 6/10:  96%|█████████▌| 151/157 [02:30<00:05,  1.02batch/s]"
     ]
    },
    {
     "name": "stdout",
     "output_type": "stream",
     "text": [
      "  step 0150  jepa 1.0355  phys 14.0155\n"
     ]
    },
    {
     "name": "stderr",
     "output_type": "stream",
     "text": [
      "Epoch 6/10: 100%|██████████| 157/157 [02:35<00:00,  1.01batch/s]\n"
     ]
    },
    {
     "name": "stdout",
     "output_type": "stream",
     "text": [
      "Epoch 6 complete — avg loss 1.0467\n"
     ]
    },
    {
     "name": "stderr",
     "output_type": "stream",
     "text": [
      "Epoch 7/10:   1%|          | 1/157 [00:01<02:50,  1.09s/batch]"
     ]
    },
    {
     "name": "stdout",
     "output_type": "stream",
     "text": [
      "  step 0000  jepa 1.0423  phys 11.3074\n"
     ]
    },
    {
     "name": "stderr",
     "output_type": "stream",
     "text": [
      "Epoch 7/10:   7%|▋         | 11/157 [00:11<02:25,  1.00batch/s]"
     ]
    },
    {
     "name": "stdout",
     "output_type": "stream",
     "text": [
      "  step 0010  jepa 1.0333  phys 13.8471\n"
     ]
    },
    {
     "name": "stderr",
     "output_type": "stream",
     "text": [
      "Epoch 7/10:  13%|█▎        | 21/157 [00:21<02:16,  1.00s/batch]"
     ]
    },
    {
     "name": "stdout",
     "output_type": "stream",
     "text": [
      "  step 0020  jepa 1.0235  phys 14.8370\n"
     ]
    },
    {
     "name": "stderr",
     "output_type": "stream",
     "text": [
      "Epoch 7/10:  20%|█▉        | 31/157 [00:31<02:04,  1.01batch/s]"
     ]
    },
    {
     "name": "stdout",
     "output_type": "stream",
     "text": [
      "  step 0030  jepa 1.0357  phys 9.8876\n"
     ]
    },
    {
     "name": "stderr",
     "output_type": "stream",
     "text": [
      "Epoch 7/10:  26%|██▌       | 41/157 [00:41<01:56,  1.01s/batch]"
     ]
    },
    {
     "name": "stdout",
     "output_type": "stream",
     "text": [
      "  step 0040  jepa 1.0170  phys 14.3476\n"
     ]
    },
    {
     "name": "stderr",
     "output_type": "stream",
     "text": [
      "Epoch 7/10:  32%|███▏      | 51/157 [00:51<01:43,  1.02batch/s]"
     ]
    },
    {
     "name": "stdout",
     "output_type": "stream",
     "text": [
      "  step 0050  jepa 1.0226  phys 15.9426\n"
     ]
    },
    {
     "name": "stderr",
     "output_type": "stream",
     "text": [
      "Epoch 7/10:  39%|███▉      | 61/157 [01:01<01:35,  1.00batch/s]"
     ]
    },
    {
     "name": "stdout",
     "output_type": "stream",
     "text": [
      "  step 0060  jepa 1.0288  phys 13.9667\n"
     ]
    },
    {
     "name": "stderr",
     "output_type": "stream",
     "text": [
      "Epoch 7/10:  45%|████▌     | 71/157 [01:10<01:24,  1.02batch/s]"
     ]
    },
    {
     "name": "stdout",
     "output_type": "stream",
     "text": [
      "  step 0070  jepa 1.0353  phys 12.1174\n"
     ]
    },
    {
     "name": "stderr",
     "output_type": "stream",
     "text": [
      "Epoch 7/10:  52%|█████▏    | 81/157 [01:20<01:15,  1.01batch/s]"
     ]
    },
    {
     "name": "stdout",
     "output_type": "stream",
     "text": [
      "  step 0080  jepa 1.0252  phys 10.2300\n"
     ]
    },
    {
     "name": "stderr",
     "output_type": "stream",
     "text": [
      "Epoch 7/10:  58%|█████▊    | 91/157 [01:30<01:05,  1.00batch/s]"
     ]
    },
    {
     "name": "stdout",
     "output_type": "stream",
     "text": [
      "  step 0090  jepa 1.0191  phys 13.2577\n"
     ]
    },
    {
     "name": "stderr",
     "output_type": "stream",
     "text": [
      "Epoch 7/10:  64%|██████▍   | 101/157 [01:40<00:55,  1.00batch/s]"
     ]
    },
    {
     "name": "stdout",
     "output_type": "stream",
     "text": [
      "  step 0100  jepa 1.0260  phys 10.8768\n"
     ]
    },
    {
     "name": "stderr",
     "output_type": "stream",
     "text": [
      "Epoch 7/10:  71%|███████   | 111/157 [01:50<00:46,  1.01s/batch]"
     ]
    },
    {
     "name": "stdout",
     "output_type": "stream",
     "text": [
      "  step 0110  jepa 1.0291  phys 10.7104\n"
     ]
    },
    {
     "name": "stderr",
     "output_type": "stream",
     "text": [
      "Epoch 7/10:  77%|███████▋  | 121/157 [02:00<00:36,  1.02s/batch]"
     ]
    },
    {
     "name": "stdout",
     "output_type": "stream",
     "text": [
      "  step 0120  jepa 1.0184  phys 11.1752\n"
     ]
    },
    {
     "name": "stderr",
     "output_type": "stream",
     "text": [
      "Epoch 7/10:  83%|████████▎ | 131/157 [02:10<00:25,  1.01batch/s]"
     ]
    },
    {
     "name": "stdout",
     "output_type": "stream",
     "text": [
      "  step 0130  jepa 1.0219  phys 16.5960\n"
     ]
    },
    {
     "name": "stderr",
     "output_type": "stream",
     "text": [
      "Epoch 7/10:  90%|████████▉ | 141/157 [02:20<00:15,  1.02batch/s]"
     ]
    },
    {
     "name": "stdout",
     "output_type": "stream",
     "text": [
      "  step 0140  jepa 1.0324  phys 12.8301\n"
     ]
    },
    {
     "name": "stderr",
     "output_type": "stream",
     "text": [
      "Epoch 7/10:  96%|█████████▌| 151/157 [02:30<00:05,  1.01batch/s]"
     ]
    },
    {
     "name": "stdout",
     "output_type": "stream",
     "text": [
      "  step 0150  jepa 1.0306  phys 12.5965\n"
     ]
    },
    {
     "name": "stderr",
     "output_type": "stream",
     "text": [
      "Epoch 7/10: 100%|██████████| 157/157 [02:36<00:00,  1.01batch/s]\n"
     ]
    },
    {
     "name": "stdout",
     "output_type": "stream",
     "text": [
      "Epoch 7 complete — avg loss 1.0409\n"
     ]
    },
    {
     "name": "stderr",
     "output_type": "stream",
     "text": [
      "Epoch 8/10:   1%|          | 1/157 [00:01<02:37,  1.01s/batch]"
     ]
    },
    {
     "name": "stdout",
     "output_type": "stream",
     "text": [
      "  step 0000  jepa 1.0190  phys 10.4098\n"
     ]
    },
    {
     "name": "stderr",
     "output_type": "stream",
     "text": [
      "Epoch 8/10:   7%|▋         | 11/157 [00:10<02:24,  1.01batch/s]"
     ]
    },
    {
     "name": "stdout",
     "output_type": "stream",
     "text": [
      "  step 0010  jepa 1.0280  phys 12.2863\n"
     ]
    },
    {
     "name": "stderr",
     "output_type": "stream",
     "text": [
      "Epoch 8/10:  13%|█▎        | 21/157 [00:21<02:16,  1.00s/batch]"
     ]
    },
    {
     "name": "stdout",
     "output_type": "stream",
     "text": [
      "  step 0020  jepa 1.0289  phys 13.4480\n"
     ]
    },
    {
     "name": "stderr",
     "output_type": "stream",
     "text": [
      "Epoch 8/10:  20%|█▉        | 31/157 [00:31<02:04,  1.01batch/s]"
     ]
    },
    {
     "name": "stdout",
     "output_type": "stream",
     "text": [
      "  step 0030  jepa 1.0263  phys 10.4186\n"
     ]
    },
    {
     "name": "stderr",
     "output_type": "stream",
     "text": [
      "Epoch 8/10:  26%|██▌       | 41/157 [00:41<01:55,  1.01batch/s]"
     ]
    },
    {
     "name": "stdout",
     "output_type": "stream",
     "text": [
      "  step 0040  jepa 1.0312  phys 11.1813\n"
     ]
    },
    {
     "name": "stderr",
     "output_type": "stream",
     "text": [
      "Epoch 8/10:  32%|███▏      | 51/157 [00:51<01:47,  1.01s/batch]"
     ]
    },
    {
     "name": "stdout",
     "output_type": "stream",
     "text": [
      "  step 0050  jepa 1.0344  phys 14.3974\n"
     ]
    },
    {
     "name": "stderr",
     "output_type": "stream",
     "text": [
      "Epoch 8/10:  39%|███▉      | 61/157 [01:01<01:34,  1.01batch/s]"
     ]
    },
    {
     "name": "stdout",
     "output_type": "stream",
     "text": [
      "  step 0060  jepa 1.0396  phys 12.0586\n"
     ]
    },
    {
     "name": "stderr",
     "output_type": "stream",
     "text": [
      "Epoch 8/10:  45%|████▌     | 71/157 [01:11<01:24,  1.02batch/s]"
     ]
    },
    {
     "name": "stdout",
     "output_type": "stream",
     "text": [
      "  step 0070  jepa 1.0272  phys 15.7338\n"
     ]
    },
    {
     "name": "stderr",
     "output_type": "stream",
     "text": [
      "Epoch 8/10:  52%|█████▏    | 81/157 [01:20<01:14,  1.02batch/s]"
     ]
    },
    {
     "name": "stdout",
     "output_type": "stream",
     "text": [
      "  step 0080  jepa 1.0274  phys 14.8751\n"
     ]
    },
    {
     "name": "stderr",
     "output_type": "stream",
     "text": [
      "Epoch 8/10:  58%|█████▊    | 91/157 [01:31<01:06,  1.01s/batch]"
     ]
    },
    {
     "name": "stdout",
     "output_type": "stream",
     "text": [
      "  step 0090  jepa 1.0264  phys 14.2062\n"
     ]
    },
    {
     "name": "stderr",
     "output_type": "stream",
     "text": [
      "Epoch 8/10:  64%|██████▍   | 101/157 [01:41<01:00,  1.07s/batch]"
     ]
    },
    {
     "name": "stdout",
     "output_type": "stream",
     "text": [
      "  step 0100  jepa 1.0270  phys 6.4330\n"
     ]
    },
    {
     "name": "stderr",
     "output_type": "stream",
     "text": [
      "Epoch 8/10:  71%|███████   | 111/157 [01:52<00:48,  1.05s/batch]"
     ]
    },
    {
     "name": "stdout",
     "output_type": "stream",
     "text": [
      "  step 0110  jepa 1.0306  phys 7.9758\n"
     ]
    },
    {
     "name": "stderr",
     "output_type": "stream",
     "text": [
      "Epoch 8/10:  77%|███████▋  | 121/157 [02:03<00:37,  1.05s/batch]"
     ]
    },
    {
     "name": "stdout",
     "output_type": "stream",
     "text": [
      "  step 0120  jepa 1.0261  phys 11.1916\n"
     ]
    },
    {
     "name": "stderr",
     "output_type": "stream",
     "text": [
      "Epoch 8/10:  83%|████████▎ | 131/157 [02:13<00:26,  1.02s/batch]"
     ]
    },
    {
     "name": "stdout",
     "output_type": "stream",
     "text": [
      "  step 0130  jepa 1.0183  phys 8.4137\n"
     ]
    },
    {
     "name": "stderr",
     "output_type": "stream",
     "text": [
      "Epoch 8/10:  90%|████████▉ | 141/157 [02:23<00:15,  1.01batch/s]"
     ]
    },
    {
     "name": "stdout",
     "output_type": "stream",
     "text": [
      "  step 0140  jepa 1.0274  phys 16.2008\n"
     ]
    },
    {
     "name": "stderr",
     "output_type": "stream",
     "text": [
      "Epoch 8/10:  96%|█████████▌| 151/157 [02:33<00:05,  1.01batch/s]"
     ]
    },
    {
     "name": "stdout",
     "output_type": "stream",
     "text": [
      "  step 0150  jepa 1.0278  phys 11.0486\n"
     ]
    },
    {
     "name": "stderr",
     "output_type": "stream",
     "text": [
      "Epoch 8/10: 100%|██████████| 157/157 [02:38<00:00,  1.01s/batch]\n"
     ]
    },
    {
     "name": "stdout",
     "output_type": "stream",
     "text": [
      "Epoch 8 complete — avg loss 1.0380\n"
     ]
    },
    {
     "name": "stderr",
     "output_type": "stream",
     "text": [
      "Epoch 9/10:   1%|          | 1/157 [00:01<02:39,  1.02s/batch]"
     ]
    },
    {
     "name": "stdout",
     "output_type": "stream",
     "text": [
      "  step 0000  jepa 1.0188  phys 13.6450\n"
     ]
    },
    {
     "name": "stderr",
     "output_type": "stream",
     "text": [
      "Epoch 9/10:   7%|▋         | 11/157 [00:11<02:26,  1.00s/batch]"
     ]
    },
    {
     "name": "stdout",
     "output_type": "stream",
     "text": [
      "  step 0010  jepa 1.0290  phys 14.6466\n"
     ]
    },
    {
     "name": "stderr",
     "output_type": "stream",
     "text": [
      "Epoch 9/10:  13%|█▎        | 21/157 [00:21<02:15,  1.00batch/s]"
     ]
    },
    {
     "name": "stdout",
     "output_type": "stream",
     "text": [
      "  step 0020  jepa 1.0202  phys 15.5182\n"
     ]
    },
    {
     "name": "stderr",
     "output_type": "stream",
     "text": [
      "Epoch 9/10:  20%|█▉        | 31/157 [00:31<02:03,  1.02batch/s]"
     ]
    },
    {
     "name": "stdout",
     "output_type": "stream",
     "text": [
      "  step 0030  jepa 1.0282  phys 15.7126\n"
     ]
    },
    {
     "name": "stderr",
     "output_type": "stream",
     "text": [
      "Epoch 9/10:  26%|██▌       | 41/157 [00:40<01:53,  1.02batch/s]"
     ]
    },
    {
     "name": "stdout",
     "output_type": "stream",
     "text": [
      "  step 0040  jepa 1.0312  phys 12.4936\n"
     ]
    },
    {
     "name": "stderr",
     "output_type": "stream",
     "text": [
      "Epoch 9/10:  32%|███▏      | 51/157 [00:51<01:47,  1.02s/batch]"
     ]
    },
    {
     "name": "stdout",
     "output_type": "stream",
     "text": [
      "  step 0050  jepa 1.0274  phys 11.8642\n"
     ]
    },
    {
     "name": "stderr",
     "output_type": "stream",
     "text": [
      "Epoch 9/10:  39%|███▉      | 61/157 [01:01<01:39,  1.04s/batch]"
     ]
    },
    {
     "name": "stdout",
     "output_type": "stream",
     "text": [
      "  step 0060  jepa 1.0189  phys 13.8165\n"
     ]
    },
    {
     "name": "stderr",
     "output_type": "stream",
     "text": [
      "Epoch 9/10:  45%|████▌     | 71/157 [01:11<01:31,  1.07s/batch]"
     ]
    },
    {
     "name": "stdout",
     "output_type": "stream",
     "text": [
      "  step 0070  jepa 1.0189  phys 7.9191\n"
     ]
    },
    {
     "name": "stderr",
     "output_type": "stream",
     "text": [
      "Epoch 9/10:  52%|█████▏    | 81/157 [01:22<01:18,  1.03s/batch]"
     ]
    },
    {
     "name": "stdout",
     "output_type": "stream",
     "text": [
      "  step 0080  jepa 1.0144  phys 8.8675\n"
     ]
    },
    {
     "name": "stderr",
     "output_type": "stream",
     "text": [
      "Epoch 9/10:  58%|█████▊    | 91/157 [01:32<01:08,  1.04s/batch]"
     ]
    },
    {
     "name": "stdout",
     "output_type": "stream",
     "text": [
      "  step 0090  jepa 1.0230  phys 14.9235\n"
     ]
    },
    {
     "name": "stderr",
     "output_type": "stream",
     "text": [
      "Epoch 9/10:  64%|██████▍   | 101/157 [01:42<00:56,  1.01s/batch]"
     ]
    },
    {
     "name": "stdout",
     "output_type": "stream",
     "text": [
      "  step 0100  jepa 1.0240  phys 13.2400\n"
     ]
    },
    {
     "name": "stderr",
     "output_type": "stream",
     "text": [
      "Epoch 9/10:  71%|███████   | 111/157 [01:52<00:45,  1.00batch/s]"
     ]
    },
    {
     "name": "stdout",
     "output_type": "stream",
     "text": [
      "  step 0110  jepa 1.0281  phys 9.2639\n"
     ]
    },
    {
     "name": "stderr",
     "output_type": "stream",
     "text": [
      "Epoch 9/10:  77%|███████▋  | 121/157 [02:02<00:35,  1.00batch/s]"
     ]
    },
    {
     "name": "stdout",
     "output_type": "stream",
     "text": [
      "  step 0120  jepa 1.0255  phys 19.1972\n"
     ]
    },
    {
     "name": "stderr",
     "output_type": "stream",
     "text": [
      "Epoch 9/10:  83%|████████▎ | 131/157 [02:12<00:25,  1.03batch/s]"
     ]
    },
    {
     "name": "stdout",
     "output_type": "stream",
     "text": [
      "  step 0130  jepa 1.0215  phys 10.5846\n"
     ]
    },
    {
     "name": "stderr",
     "output_type": "stream",
     "text": [
      "Epoch 9/10:  90%|████████▉ | 141/157 [02:22<00:15,  1.00batch/s]"
     ]
    },
    {
     "name": "stdout",
     "output_type": "stream",
     "text": [
      "  step 0140  jepa 1.0224  phys 9.9885\n"
     ]
    },
    {
     "name": "stderr",
     "output_type": "stream",
     "text": [
      "Epoch 9/10:  96%|█████████▌| 151/157 [02:32<00:05,  1.00batch/s]"
     ]
    },
    {
     "name": "stdout",
     "output_type": "stream",
     "text": [
      "  step 0150  jepa 1.0271  phys 11.7373\n"
     ]
    },
    {
     "name": "stderr",
     "output_type": "stream",
     "text": [
      "Epoch 9/10: 100%|██████████| 157/157 [02:38<00:00,  1.01s/batch]\n"
     ]
    },
    {
     "name": "stdout",
     "output_type": "stream",
     "text": [
      "Epoch 9 complete — avg loss 1.0356\n"
     ]
    },
    {
     "name": "stderr",
     "output_type": "stream",
     "text": [
      "Epoch 10/10:   1%|          | 1/157 [00:01<02:36,  1.00s/batch]"
     ]
    },
    {
     "name": "stdout",
     "output_type": "stream",
     "text": [
      "  step 0000  jepa 1.0120  phys 11.7356\n"
     ]
    },
    {
     "name": "stderr",
     "output_type": "stream",
     "text": [
      "Epoch 10/10:   7%|▋         | 11/157 [00:11<02:25,  1.00batch/s]"
     ]
    },
    {
     "name": "stdout",
     "output_type": "stream",
     "text": [
      "  step 0010  jepa 1.0201  phys 15.5556\n"
     ]
    },
    {
     "name": "stderr",
     "output_type": "stream",
     "text": [
      "Epoch 10/10:  13%|█▎        | 21/157 [00:21<02:14,  1.01batch/s]"
     ]
    },
    {
     "name": "stdout",
     "output_type": "stream",
     "text": [
      "  step 0020  jepa 1.0161  phys 16.7457\n"
     ]
    },
    {
     "name": "stderr",
     "output_type": "stream",
     "text": [
      "Epoch 10/10:  20%|█▉        | 31/157 [00:30<02:04,  1.01batch/s]"
     ]
    },
    {
     "name": "stdout",
     "output_type": "stream",
     "text": [
      "  step 0030  jepa 1.0195  phys 10.6946\n"
     ]
    },
    {
     "name": "stderr",
     "output_type": "stream",
     "text": [
      "Epoch 10/10:  26%|██▌       | 41/157 [00:40<01:54,  1.02batch/s]"
     ]
    },
    {
     "name": "stdout",
     "output_type": "stream",
     "text": [
      "  step 0040  jepa 1.0218  phys 11.0697\n"
     ]
    },
    {
     "name": "stderr",
     "output_type": "stream",
     "text": [
      "Epoch 10/10:  32%|███▏      | 51/157 [00:50<01:45,  1.01batch/s]"
     ]
    },
    {
     "name": "stdout",
     "output_type": "stream",
     "text": [
      "  step 0050  jepa 1.0163  phys 12.6771\n"
     ]
    },
    {
     "name": "stderr",
     "output_type": "stream",
     "text": [
      "Epoch 10/10:  39%|███▉      | 61/157 [01:00<01:37,  1.02s/batch]"
     ]
    },
    {
     "name": "stdout",
     "output_type": "stream",
     "text": [
      "  step 0060  jepa 1.0241  phys 14.1402\n"
     ]
    },
    {
     "name": "stderr",
     "output_type": "stream",
     "text": [
      "Epoch 10/10:  45%|████▌     | 71/157 [01:11<01:33,  1.09s/batch]"
     ]
    },
    {
     "name": "stdout",
     "output_type": "stream",
     "text": [
      "  step 0070  jepa 1.0180  phys 13.9573\n"
     ]
    },
    {
     "name": "stderr",
     "output_type": "stream",
     "text": [
      "Epoch 10/10:  52%|█████▏    | 81/157 [01:21<01:17,  1.02s/batch]"
     ]
    },
    {
     "name": "stdout",
     "output_type": "stream",
     "text": [
      "  step 0080  jepa 1.0256  phys 13.1494\n"
     ]
    },
    {
     "name": "stderr",
     "output_type": "stream",
     "text": [
      "Epoch 10/10:  58%|█████▊    | 91/157 [01:32<01:07,  1.03s/batch]"
     ]
    },
    {
     "name": "stdout",
     "output_type": "stream",
     "text": [
      "  step 0090  jepa 1.0214  phys 10.8116\n"
     ]
    },
    {
     "name": "stderr",
     "output_type": "stream",
     "text": [
      "Epoch 10/10:  64%|██████▍   | 101/157 [01:42<00:56,  1.01s/batch]"
     ]
    },
    {
     "name": "stdout",
     "output_type": "stream",
     "text": [
      "  step 0100  jepa 1.0209  phys 9.9659\n"
     ]
    },
    {
     "name": "stderr",
     "output_type": "stream",
     "text": [
      "Epoch 10/10:  71%|███████   | 111/157 [01:52<00:47,  1.02s/batch]"
     ]
    },
    {
     "name": "stdout",
     "output_type": "stream",
     "text": [
      "  step 0110  jepa 1.0220  phys 13.5412\n"
     ]
    },
    {
     "name": "stderr",
     "output_type": "stream",
     "text": [
      "Epoch 10/10:  77%|███████▋  | 121/157 [02:02<00:35,  1.01batch/s]"
     ]
    },
    {
     "name": "stdout",
     "output_type": "stream",
     "text": [
      "  step 0120  jepa 1.0105  phys 15.1070\n"
     ]
    },
    {
     "name": "stderr",
     "output_type": "stream",
     "text": [
      "Epoch 10/10:  83%|████████▎ | 131/157 [02:13<00:26,  1.01s/batch]"
     ]
    },
    {
     "name": "stdout",
     "output_type": "stream",
     "text": [
      "  step 0130  jepa 1.0230  phys 6.0094\n"
     ]
    },
    {
     "name": "stderr",
     "output_type": "stream",
     "text": [
      "Epoch 10/10:  90%|████████▉ | 141/157 [02:23<00:16,  1.02s/batch]"
     ]
    },
    {
     "name": "stdout",
     "output_type": "stream",
     "text": [
      "  step 0140  jepa 1.0233  phys 16.1457\n"
     ]
    },
    {
     "name": "stderr",
     "output_type": "stream",
     "text": [
      "Epoch 10/10:  96%|█████████▌| 151/157 [02:33<00:05,  1.00batch/s]"
     ]
    },
    {
     "name": "stdout",
     "output_type": "stream",
     "text": [
      "  step 0150  jepa 1.0187  phys 10.4580\n"
     ]
    },
    {
     "name": "stderr",
     "output_type": "stream",
     "text": [
      "Epoch 10/10: 100%|██████████| 157/157 [02:39<00:00,  1.01s/batch]\n"
     ]
    },
    {
     "name": "stdout",
     "output_type": "stream",
     "text": [
      "Epoch 10 complete — avg loss 1.0337\n"
     ]
    },
    {
     "data": {
      "image/png": "[encoded data removed]",
      "text/plain": [
       "<Figure size 1000x500 with 1 Axes>"
      ]
     },
     "metadata": {},
     "output_type": "display_data"
    },
    {
     "data": {
      "image/png": "[encoded data removed]",
      "text/plain": [
       "<Figure size 1200x2000 with 15 Axes>"
      ]
     },
     "metadata": {},
     "output_type": "display_data"
    },
    {
     "name": "stdout",
     "output_type": "stream",
     "text": [
      "Training completed!\n"
     ]
    },
    {
     "name": "stderr",
     "output_type": "stream",
     "text": [
      "Extracting embeddings:   9%|▉         | 7/79 [00:01<00:12,  5.93it/s]\n"
     ]
    },
    {
     "name": "stdout",
     "output_type": "stream",
     "text": [
      "\n",
      "Latent -> Theta R²: 1.0000, MSE: 0.0001\n",
      "Latent -> Omega R²: 0.2630, MSE: 9.9627\n"
     ]
    },
    {
     "data": {
      "image/png": "[encoded data removed]",
      "text/plain": [
       "<Figure size 1200x500 with 2 Axes>"
      ]
     },
     "metadata": {},
     "output_type": "display_data"
    },
    {
     "data": {
      "image/png": "[encoded data removed]",
      "text/plain": [
       "<Figure size 600x500 with 1 Axes>"
      ]
     },
     "metadata": {},
     "output_type": "display_data"
    },
    {
     "ename": "NameError",
     "evalue": "name 'plot_energy_conservation' is not defined",
     "output_type": "error",
     "traceback": [
      "\u001b[31m---------------------------------------------------------------------------\u001b[39m",
      "\u001b[31mNameError\u001b[39m                                 Traceback (most recent call last)",
      "\u001b[36mCell\u001b[39m\u001b[36m \u001b[39m\u001b[32mIn[15]\u001b[39m\u001b[32m, line 677\u001b[39m\n\u001b[32m    674\u001b[39m     plot_energy_conservation(dataset)\n\u001b[32m    676\u001b[39m \u001b[38;5;28;01mif\u001b[39;00m \u001b[34m__name__\u001b[39m == \u001b[33m\"\u001b[39m\u001b[33m__main__\u001b[39m\u001b[33m\"\u001b[39m:\n\u001b[32m--> \u001b[39m\u001b[32m677\u001b[39m     \u001b[43mmain\u001b[49m\u001b[43m(\u001b[49m\u001b[43m)\u001b[49m\n",
      "\u001b[36mCell\u001b[39m\u001b[36m \u001b[39m\u001b[32mIn[15]\u001b[39m\u001b[32m, line 674\u001b[39m, in \u001b[36mmain\u001b[39m\u001b[34m()\u001b[39m\n\u001b[32m    672\u001b[39m analyze_vjepa_latent_phase_relation(model,dataset )\n\u001b[32m    673\u001b[39m plot_true_phase_space(dataset)\n\u001b[32m--> \u001b[39m\u001b[32m674\u001b[39m \u001b[43mplot_energy_conservation\u001b[49m(dataset)\n",
      "\u001b[31mNameError\u001b[39m: name 'plot_energy_conservation' is not defined"
     ]
    }
   ],
   "source": [
    "# Set random seeds for reproducibility\n",
    "torch.manual_seed(42)\n",
    "np.random.seed(42)\n",
    "\n",
    "# Check for GPU availability\n",
    "device = torch.device(\"cuda\" if torch.cuda.is_available() else \"cpu\")\n",
    "print(f\"Using device: {device}\")\n",
    "\n",
    "# ============================\n",
    "# 1. Data Collection and Preparation\n",
    "# ============================\n",
    "\n",
    "class PendulumDataset(Dataset):\n",
    "    def __init__(self, num_episodes=100, episode_length=200, img_size=64, transform=None):\n",
    "        \"\"\"\n",
    "        Dataset for pendulum images from OpenAI Gym\n",
    "\n",
    "        Args:\n",
    "            num_episodes: Number of episodes to collect\n",
    "            episode_length: Length of each episode\n",
    "            img_size: Size to resize images to\n",
    "            transform: Additional transforms to apply\n",
    "        \"\"\"\n",
    "        self.img_size = img_size\n",
    "        self.transform = transform\n",
    "\n",
    "        # Generate synthetic pendulum images\n",
    "        self.generate_synthetic_pendulum_data(num_episodes, episode_length)\n",
    "\n",
    "    def generate_synthetic_pendulum_data(self, num_episodes, episode_length):\n",
    "        \"\"\"Generate synthetic pendulum data using PIL\"\"\"\n",
    "        print(\"Generating synthetic pendulum data...\")\n",
    "        self.images = []\n",
    "\n",
    "        # Create environment to get pendulum dynamics\n",
    "        env = gym.make('Pendulum-v1')\n",
    "\n",
    "        # Set up parameters for drawing pendulum\n",
    "        img_size = self.img_size\n",
    "        pendulum_length = img_size * 0.4\n",
    "        center_x, center_y = img_size // 2, img_size // 2\n",
    "\n",
    "        self.images = []\n",
    "        self.labels = []\n",
    "\n",
    "        for episode in tqdm(range(num_episodes)):\n",
    "            # Reset environment\n",
    "            obs = env.reset()\n",
    "            if isinstance(obs, tuple):\n",
    "                obs = obs[0]  # New API returns (obs, info)\n",
    "\n",
    "            # Extract theta from observation\n",
    "            # In Pendulum-v1, obs[0] = cos(theta), obs[1] = sin(theta)\n",
    "            theta = np.arctan2(obs[1], obs[0])\n",
    "\n",
    "            for step in range(episode_length):\n",
    "                # Take random action\n",
    "                action = env.action_space.sample()\n",
    "\n",
    "                # Step the environment\n",
    "                step_result = env.step(action)\n",
    "\n",
    "                # Handle different Gym API versions\n",
    "                if len(step_result) == 4:  # Old API\n",
    "                    obs, reward, done, _ = step_result\n",
    "                else:  # New API\n",
    "                    obs, reward, terminated, truncated, _ = step_result\n",
    "                    done = terminated or truncated\n",
    "\n",
    "                # Extract theta from observation\n",
    "                theta = np.arctan2(obs[1], obs[0])\n",
    "                omega = obs[2]\n",
    "\n",
    "                # Draw pendulum image\n",
    "                # Create a blank image\n",
    "                img = Image.new('RGB', (img_size, img_size), color='white')\n",
    "                draw = ImageDraw.Draw(img)\n",
    "\n",
    "                # Calculate pendulum endpoint\n",
    "                end_x = int(center_x + pendulum_length * np.sin(theta))\n",
    "                end_y = int(center_y + pendulum_length * np.cos(theta))\n",
    "\n",
    "                # Draw pendulum rod\n",
    "                draw.line([(center_x, center_y), (end_x, end_y)], fill='black', width=3)\n",
    "\n",
    "                # Draw pivot point\n",
    "                draw.ellipse(\n",
    "                    [(center_x-5, center_y-5), (center_x+5, center_y+5)],\n",
    "                    fill='red'\n",
    "                )\n",
    "\n",
    "                # Draw bob\n",
    "                draw.ellipse(\n",
    "                    [(end_x-8, end_y-8), (end_x+8, end_y+8)],\n",
    "                    fill='blue'\n",
    "                )\n",
    "\n",
    "                # Convert to numpy array\n",
    "                img_array = np.array(img)\n",
    "\n",
    "                # Add to dataset\n",
    "                self.images.append(img_array)\n",
    "                self.labels.append((theta, omega))\n",
    "\n",
    "                if done:\n",
    "                    break\n",
    "\n",
    "        env.close()\n",
    "        self.images = np.array(self.images)\n",
    "        print(f\"Dataset created with {len(self.images)} images\")\n",
    "\n",
    "    def __len__(self):\n",
    "        return len(self.images)\n",
    "\n",
    "    def __getitem__(self, idx):\n",
    "        img = self.images[idx]\n",
    "        label = self.labels[idx]\n",
    "\n",
    "        # Convert to tensor\n",
    "        img = torch.from_numpy(img).float() / 255.0\n",
    "        img = img.permute(2, 0, 1)  # Convert to CxHxW format\n",
    "\n",
    "        if self.transform:\n",
    "            img = self.transform(img)\n",
    "\n",
    "        label = torch.tensor(label, dtype=torch.float32)\n",
    "\n",
    "        return img, label\n",
    "\n",
    "    def __len__(self):\n",
    "        return len(self.images)\n",
    "\n",
    "    # def __getitem__(self, idx):\n",
    "    #     img = self.images[idx]\n",
    "\n",
    "    #     # Convert to tensor\n",
    "    #     img = torch.from_numpy(img).float() / 255.0\n",
    "    #     img = img.permute(2, 0, 1)  # Convert to CxHxW format\n",
    "\n",
    "    #     if self.transform:\n",
    "    #         img = self.transform(img)\n",
    "\n",
    "    #     return img\n",
    "\n",
    "# ============================\n",
    "# 2. VJEPA Architecture\n",
    "# ============================\n",
    "\n",
    "class PatchEmbed(nn.Module):\n",
    "    \"\"\"\n",
    "    Image to Patch Embedding\n",
    "    \"\"\"\n",
    "    def __init__(self, img_size=64, patch_size=8, in_chans=3, embed_dim=768):\n",
    "        super().__init__()\n",
    "        self.img_size = img_size\n",
    "        self.patch_size = patch_size\n",
    "        self.n_patches = (img_size // patch_size) ** 2\n",
    "\n",
    "        self.proj = nn.Conv2d(\n",
    "            in_chans, embed_dim, kernel_size=patch_size, stride=patch_size\n",
    "        )\n",
    "\n",
    "    def forward(self, x):\n",
    "        B, C, H, W = x.shape\n",
    "        x = self.proj(x)  # (B, embed_dim, H/patch_size, W/patch_size)\n",
    "        x = x.flatten(2)  # (B, embed_dim, n_patches)\n",
    "        x = x.transpose(1, 2)  # (B, n_patches, embed_dim)\n",
    "        return x\n",
    "\n",
    "class TransformerEncoder(nn.Module):\n",
    "    \"\"\"\n",
    "    Transformer encoder block\n",
    "    \"\"\"\n",
    "    def __init__(self, embed_dim=768, depth=12, num_heads=12, mlp_ratio=4.0):\n",
    "        super().__init__()\n",
    "        self.layers = nn.ModuleList([])\n",
    "        for _ in range(depth):\n",
    "            layer = nn.TransformerEncoderLayer(\n",
    "                d_model=embed_dim,\n",
    "                nhead=num_heads,\n",
    "                dim_feedforward=int(embed_dim * mlp_ratio),\n",
    "                batch_first=True,\n",
    "                norm_first=True\n",
    "            )\n",
    "            self.layers.append(layer)\n",
    "\n",
    "    def forward(self, x):\n",
    "        for layer in self.layers:\n",
    "            x = layer(x)\n",
    "        return x\n",
    "\n",
    "class MaskingStrategy:\n",
    "    \"\"\"\n",
    "    Handles masked prediction strategies for JEPA/VJEPA\n",
    "    \"\"\"\n",
    "    def __init__(self, num_patches, mask_ratio=0.75, block_size=4):\n",
    "        self.num_patches = num_patches\n",
    "        self.mask_ratio = mask_ratio\n",
    "        self.block_size = block_size\n",
    "\n",
    "    def random_masking(self, batch_size):\n",
    "        \"\"\"Generate random masks for a batch\"\"\"\n",
    "        n_keep = int(self.num_patches * (1 - self.mask_ratio))\n",
    "\n",
    "        # For each sample, randomly select patches to keep\n",
    "        noise = torch.rand(batch_size, self.num_patches, device=device)\n",
    "        ids_shuffle = torch.argsort(noise, dim=1)\n",
    "        ids_restore = torch.argsort(ids_shuffle, dim=1)\n",
    "\n",
    "        # Determine which patches to keep\n",
    "        mask = torch.ones([batch_size, self.num_patches], device=device)\n",
    "        mask[:, :n_keep] = 0\n",
    "        # Unshuffle to get the mask\n",
    "        mask = torch.gather(mask, dim=1, index=ids_restore)\n",
    "\n",
    "        return mask.bool()  # masked positions are True\n",
    "\n",
    "    def block_masking(self, batch_size):\n",
    "        \"\"\"Generate block-wise masks\"\"\"\n",
    "        grid_size = int(np.sqrt(self.num_patches))\n",
    "\n",
    "        # Create empty masks\n",
    "        masks = torch.zeros(batch_size, self.num_patches, device=device)\n",
    "\n",
    "        for b in range(batch_size):\n",
    "            # Number of blocks to mask\n",
    "            n_blocks = int((self.num_patches * self.mask_ratio) / (self.block_size**2))\n",
    "\n",
    "            # Randomly choose block starting positions\n",
    "            for _ in range(n_blocks):\n",
    "                # Choose random top-left corner for block\n",
    "                h_start = np.random.randint(0, grid_size - self.block_size + 1)\n",
    "                w_start = np.random.randint(0, grid_size - self.block_size + 1)\n",
    "\n",
    "                # Mask all patches in this block\n",
    "                for h in range(h_start, h_start + self.block_size):\n",
    "                    for w in range(w_start, w_start + self.block_size):\n",
    "                        patch_idx = h * grid_size + w\n",
    "                        masks[b, patch_idx] = 1\n",
    "\n",
    "        return masks.bool()  # masked positions are True\n",
    "\n",
    "class VJEPA(nn.Module):\n",
    "    \"\"\"\n",
    "    Vision-based Joint Embedding Predictive Architecture\n",
    "    \"\"\"\n",
    "    def __init__(\n",
    "        self,\n",
    "        img_size=64,\n",
    "        patch_size=8,\n",
    "        in_chans=3,\n",
    "        embed_dim=768,\n",
    "        depth=12,\n",
    "        num_heads=12,\n",
    "        decoder_embed_dim=512,\n",
    "        decoder_depth=8,\n",
    "        decoder_num_heads=16,\n",
    "        mlp_ratio=4.0,\n",
    "        prediction_head_dim=384\n",
    "    ):\n",
    "        super().__init__()\n",
    "\n",
    "        # Patch embedding\n",
    "        self.patch_embed = PatchEmbed(\n",
    "            img_size=img_size,\n",
    "            patch_size=patch_size,\n",
    "            in_chans=in_chans,\n",
    "            embed_dim=embed_dim\n",
    "        )\n",
    "\n",
    "        # Number of patches\n",
    "        self.num_patches = self.patch_embed.n_patches\n",
    "\n",
    "        # Position embeddings\n",
    "        self.pos_embed = nn.Parameter(\n",
    "            torch.zeros(1, self.num_patches, embed_dim)\n",
    "        )\n",
    "\n",
    "        # Context encoder (f_θ)\n",
    "        self.context_encoder = TransformerEncoder(\n",
    "            embed_dim=embed_dim,\n",
    "            depth=depth,\n",
    "            num_heads=num_heads,\n",
    "            mlp_ratio=mlp_ratio\n",
    "        )\n",
    "\n",
    "        # Target encoder (g_ϕ)\n",
    "        self.target_encoder = TransformerEncoder(\n",
    "            embed_dim=embed_dim,\n",
    "            depth=depth,\n",
    "            num_heads=num_heads,\n",
    "            mlp_ratio=mlp_ratio\n",
    "        )\n",
    "\n",
    "        # Predictor network\n",
    "        self.predictor = nn.Sequential(\n",
    "            nn.Linear(embed_dim, prediction_head_dim),\n",
    "            nn.GELU(),\n",
    "            nn.Linear(prediction_head_dim, embed_dim)\n",
    "        )\n",
    "\n",
    "        # Masking strategy\n",
    "        self.masking = MaskingStrategy(self.num_patches)\n",
    "\n",
    "        # Initialize weights\n",
    "        self._init_weights()\n",
    "\n",
    "    def _init_weights(self):\n",
    "        # Initialize position embeddings\n",
    "        nn.init.normal_(self.pos_embed, std=0.02)\n",
    "\n",
    "        # Initialize projection layers\n",
    "        self.apply(self._init_weights_layer)\n",
    "\n",
    "    def _init_weights_layer(self, m):\n",
    "        if isinstance(m, nn.Linear):\n",
    "            nn.init.xavier_uniform_(m.weight)\n",
    "            if m.bias is not None:\n",
    "                nn.init.constant_(m.bias, 0)\n",
    "        elif isinstance(m, nn.LayerNorm):\n",
    "            nn.init.constant_(m.bias, 0)\n",
    "            nn.init.constant_(m.weight, 1.0)\n",
    "\n",
    "    # def forward_context(self, imgs, context_mask):\n",
    "    #     \"\"\"Process the context (visible) regions\"\"\"\n",
    "    #     # Get patch embeddings\n",
    "    #     x = self.patch_embed(imgs)\n",
    "\n",
    "    #     # Add position embeddings\n",
    "    #     x = x + self.pos_embed\n",
    "\n",
    "    #     # Get unmasked patches\n",
    "    #     unmasked_indices = ~context_mask\n",
    "    #     x_unmasked = x[unmasked_indices].reshape(imgs.shape[0], -1, x.shape[-1])\n",
    "\n",
    "    #     # Encode context\n",
    "    #     context_feats = self.context_encoder(x_unmasked)\n",
    "\n",
    "    #     return context_feats\n",
    "    def forward_context(self, imgs, context_mask):\n",
    "      \"\"\"Process the context (visible) regions\"\"\"\n",
    "      # Get patch embeddings\n",
    "      x = self.patch_embed(imgs)  # [B, num_patches, embed_dim]\n",
    "\n",
    "      # Add positional embeddings\n",
    "      x = x + self.pos_embed  # [B, num_patches, embed_dim]\n",
    "\n",
    "      B, N, D = x.shape\n",
    "      unmasked_indices = ~context_mask  # [B, num_patches]\n",
    "\n",
    "      # Collect unmasked patches per sample\n",
    "      x_unmasked = []\n",
    "\n",
    "      for i in range(B):\n",
    "          patches = x[i][unmasked_indices[i]]  # [num_unmasked_i, D]\n",
    "\n",
    "          # Pad to the max number of patches in the batch\n",
    "          num_unmasked = patches.shape[0]\n",
    "          padded = F.pad(patches, (0, 0, 0, N - num_unmasked))  # [N, D]\n",
    "          x_unmasked.append(padded)\n",
    "\n",
    "      x_unmasked = torch.stack(x_unmasked)  # [B, N, D]\n",
    "\n",
    "      # Optionally, create attention masks if Transformer should ignore padded tokens\n",
    "\n",
    "      # Encode context\n",
    "      context_feats = self.context_encoder(x_unmasked)  # [B, N, D]\n",
    "\n",
    "      return context_feats\n",
    "\n",
    "\n",
    "    def forward_target(self, imgs, target_mask):\n",
    "        \"\"\"Process the target (masked) regions\"\"\"\n",
    "        # Get patch embeddings\n",
    "        x = self.patch_embed(imgs)  # [B, num_patches, embed_dim]\n",
    "\n",
    "        # Add positional embeddings\n",
    "        x = x + self.pos_embed\n",
    "\n",
    "        B, N, D = x.shape\n",
    "        masked_indices = target_mask  # [B, num_patches]\n",
    "\n",
    "        x_masked = []\n",
    "\n",
    "        for i in range(B):\n",
    "            patches = x[i][masked_indices[i]]  # [num_masked_i, D]\n",
    "\n",
    "            # Pad to full length N\n",
    "            num_masked = patches.shape[0]\n",
    "            padded = F.pad(patches, (0, 0, 0, N - num_masked))  # [N, D]\n",
    "            x_masked.append(padded)\n",
    "\n",
    "        x_masked = torch.stack(x_masked)  # [B, N, D]\n",
    "\n",
    "        # Encode masked regions (targets)\n",
    "        target_feats = self.target_encoder(x_masked)\n",
    "\n",
    "        return target_feats\n",
    "\n",
    "\n",
    "    def forward(self, imgs):\n",
    "        \"\"\"\n",
    "        Forward pass of VJEPA\n",
    "\n",
    "        Args:\n",
    "            imgs: Batch of images [B, C, H, W]\n",
    "\n",
    "        Returns:\n",
    "            loss: VJEPA loss value\n",
    "            pred: Predicted embeddings\n",
    "            target: Target embeddings\n",
    "        \"\"\"\n",
    "        B = imgs.shape[0]\n",
    "\n",
    "        # Generate masks for context and target\n",
    "        context_mask = self.masking.block_masking(B)\n",
    "        target_mask = self.masking.random_masking(B)\n",
    "\n",
    "        # Ensure context and target don't overlap\n",
    "        overlap_mask = context_mask & target_mask\n",
    "        target_mask = target_mask & ~overlap_mask\n",
    "\n",
    "        # Forward pass through context encoder\n",
    "        context_feats = self.forward_context(imgs, context_mask)\n",
    "\n",
    "        # Forward pass through target encoder\n",
    "        with torch.no_grad():  # Stop gradient for target encoder\n",
    "            target_feats = self.forward_target(imgs, target_mask)\n",
    "\n",
    "        # Generate predictions from context\n",
    "        pred = self.predictor(context_feats)\n",
    "\n",
    "        # Compute loss\n",
    "        loss = F.mse_loss(pred, target_feats)\n",
    "\n",
    "        return loss, pred, target_feats\n",
    "\n",
    "# ============================\n",
    "# 3. Training Function\n",
    "# ============================\n",
    "\n",
    "def train_vjepa(model, theta_head, vec_field,\n",
    "                train_loader, optimizer,\n",
    "                num_epochs=100, log_interval=10,\n",
    "                lambda_phys=1e-3, lambda_sup=1e-2):\n",
    "    \"\"\"\n",
    "    Train VJEPA with an additional Hamiltonian physics loss.\n",
    "    \"\"\"\n",
    "    model.train(); theta_head.train(); vec_field.train()\n",
    "    losses = []\n",
    "\n",
    "    print(\"Starting training…\")\n",
    "    for epoch in range(num_epochs):\n",
    "        epoch_loss = 0.0\n",
    "\n",
    "        for step, (imgs, labels) in enumerate(\n",
    "                tqdm(train_loader, unit=\"batch\",\n",
    "                     desc=f\"Epoch {epoch+1}/{num_epochs}\")):\n",
    "\n",
    "            imgs, labels = imgs.to(device), labels.to(device)   # labels = (θ, ω)\n",
    "\n",
    "            # ─── 1. JEPA reconstruction loss ─────────────────────────\n",
    "            loss_jepa, _, _ = model(imgs)\n",
    "\n",
    "            # ─── 2. Latent → (θ̂ , ω̂)  (NO torch.no_grad!) ───────────\n",
    "            lat = model.patch_embed(imgs) + model.pos_embed     # [B,N,D]\n",
    "            lat = model.context_encoder(lat)                    # [B,N,D]\n",
    "            z   = lat.mean(dim=1)                               # [B,D]\n",
    "            theta_pred, omega_pred = theta_head(z).split(1, dim=1)  # [B,1] each\n",
    "\n",
    "            # ─── 3. Physics loss  dq/dt ≈ ω_true ────────────────────\n",
    "            state   = torch.cat([theta_pred, omega_pred], dim=1)      # [B,2]\n",
    "            dqdt_pred = vec_field.time_derivative(state)[:, :1]       # (B,1)\n",
    "            omega_true = labels[:, 1:2]                                # ω_true\n",
    "            phys_loss  = F.mse_loss(dqdt_pred, omega_true)\n",
    "\n",
    "            # optional direct θ supervision (helps the linear head converge)\n",
    "            theta_true = labels[:, 0:1]\n",
    "            sup_loss   = F.mse_loss(theta_pred, theta_true)\n",
    "\n",
    "            # ─── 4. Total objective ─────────────────────────────────\n",
    "            loss = loss_jepa + lambda_phys * phys_loss + lambda_sup * sup_loss\n",
    "            optimizer.zero_grad()\n",
    "            loss.backward()\n",
    "            optimizer.step()\n",
    "\n",
    "            epoch_loss += loss.item()\n",
    "\n",
    "            if step % log_interval == 0:\n",
    "                tqdm.write(f\"  step {step:04d}  \"\n",
    "                           f\"jepa {loss_jepa.item():.4f}  \"\n",
    "                           f\"phys {phys_loss.item():.4f}\")\n",
    "\n",
    "        avg = epoch_loss / len(train_loader)\n",
    "        losses.append(avg)\n",
    "        print(f\"Epoch {epoch+1} complete — avg loss {avg:.4f}\")\n",
    "\n",
    "    return losses\n",
    "\n",
    "# ============================\n",
    "# 4. Visualization Functions\n",
    "# ============================\n",
    "def visualize_reconstructions(model, dataset, num_samples=5):\n",
    "    \"\"\"Visualize original images and their reconstructions\"\"\"\n",
    "    model.eval()\n",
    "\n",
    "    # Create a dataloader with batch size equal to num_samples\n",
    "    loader = DataLoader(dataset, batch_size=num_samples, shuffle=True)\n",
    "    imgs, _ = next(iter(loader))  # <-- FIXED: unpack the tuple\n",
    "    imgs = imgs.to(device)\n",
    "\n",
    "    # Get reconstructions\n",
    "    with torch.no_grad():\n",
    "        # Generate masks\n",
    "        B = imgs.shape[0]\n",
    "        context_mask = model.masking.block_masking(B)\n",
    "        target_mask = model.masking.random_masking(B)\n",
    "\n",
    "        # Ensure no overlap\n",
    "        overlap_mask = context_mask & target_mask\n",
    "        target_mask = target_mask & ~overlap_mask\n",
    "\n",
    "        # Get features\n",
    "        context_feats = model.forward_context(imgs, context_mask)\n",
    "        pred = model.predictor(context_feats)\n",
    "\n",
    "    # Visualize the results\n",
    "    plt.figure(figsize=(12, 4 * num_samples))\n",
    "\n",
    "    for i in range(num_samples):\n",
    "        # Original image\n",
    "        plt.subplot(num_samples, 3, i * 3 + 1)\n",
    "        img = imgs[i].cpu().permute(1, 2, 0).numpy()\n",
    "        plt.imshow(img)\n",
    "        plt.title(\"Original\")\n",
    "        plt.axis('off')\n",
    "\n",
    "        # Masked image (context)\n",
    "        plt.subplot(num_samples, 3, i * 3 + 2)\n",
    "        masked_img = imgs[i].clone().cpu()\n",
    "\n",
    "        grid_size = int(np.sqrt(model.num_patches))\n",
    "        mask_reshaped = context_mask[i].reshape(1, 1, grid_size, grid_size).float()\n",
    "        mask_upsampled = F.interpolate(\n",
    "            mask_reshaped,\n",
    "            size=(imgs.shape[2], imgs.shape[3]),\n",
    "            mode='nearest'\n",
    "        ).squeeze()\n",
    "\n",
    "        for c in range(3):\n",
    "            masked_img[c][mask_upsampled.bool()] = 0.5  # Gray out masked areas\n",
    "\n",
    "        plt.imshow(masked_img.permute(1, 2, 0).numpy())\n",
    "        plt.title(\"Context (Visible Regions)\")\n",
    "        plt.axis('off')\n",
    "\n",
    "        # Target image (highlight predicted regions)\n",
    "        plt.subplot(num_samples, 3, i * 3 + 3)\n",
    "        target_img = imgs[i].clone().cpu()\n",
    "\n",
    "        target_mask_reshaped = target_mask[i].reshape(1, 1, grid_size, grid_size).float()\n",
    "        target_mask_upsampled = F.interpolate(\n",
    "            target_mask_reshaped,\n",
    "            size=(imgs.shape[2], imgs.shape[3]),\n",
    "            mode='nearest'\n",
    "        ).squeeze()\n",
    "\n",
    "        for c in range(3):\n",
    "            if c == 0:  # Red channel\n",
    "                target_img[c][target_mask_upsampled.bool()] = 1.0\n",
    "            else:\n",
    "                target_img[c][target_mask_upsampled.bool()] = 0.3\n",
    "\n",
    "        plt.imshow(target_img.permute(1, 2, 0).numpy())\n",
    "        plt.title(\"Target (Predicted Regions)\")\n",
    "        plt.axis('off')\n",
    "\n",
    "    plt.tight_layout()\n",
    "    plt.savefig('vjepa_reconstructions.png')\n",
    "    plt.show()\n",
    "\n",
    "\n",
    "def plot_training_loss(losses):\n",
    "    \"\"\"Plot training loss over epochs\"\"\"\n",
    "    plt.figure(figsize=(10, 5))\n",
    "    plt.plot(losses)\n",
    "    plt.title('VJEPA Training Loss')\n",
    "    plt.xlabel('Epoch')\n",
    "    plt.ylabel('Loss')\n",
    "    plt.grid(True)\n",
    "    plt.savefig('vjepa_training_loss.png')\n",
    "    plt.show()\n",
    "\n",
    "# ============================\n",
    "# 5. Main Execution\n",
    "# ============================\n",
    "\n",
    "def main():\n",
    "    # Configuration\n",
    "    batch_size = 32\n",
    "    img_size = 64\n",
    "    patch_size = 8\n",
    "    embed_dim = 384  # Smaller for faster training\n",
    "    depth = 6  # Smaller depth for faster training\n",
    "    num_heads = 6\n",
    "    prediction_head_dim = 192\n",
    "    learning_rate = 1e-4\n",
    "    num_epochs = 10\n",
    "\n",
    "    # Create dataset\n",
    "    dataset = PendulumDataset(num_episodes=50, episode_length=100, img_size=img_size)\n",
    "    train_loader = DataLoader(dataset, batch_size=batch_size, shuffle=True, num_workers=0)  # Set num_workers=0 for compatibility\n",
    "\n",
    "    # Create model\n",
    "    model = VJEPA(\n",
    "        img_size=img_size,\n",
    "        patch_size=patch_size,\n",
    "        in_chans=3,\n",
    "        embed_dim=embed_dim,\n",
    "        depth=depth,\n",
    "        num_heads=num_heads,\n",
    "        decoder_embed_dim=embed_dim // 2,\n",
    "        decoder_depth=4,\n",
    "        decoder_num_heads=num_heads,\n",
    "        mlp_ratio=4.0,\n",
    "        prediction_head_dim=prediction_head_dim\n",
    "    ).to(device)\n",
    "    \n",
    "    ######################################################################\n",
    "    # (B)  immediately after you create the VJEPA model,                    │\n",
    "    #      create a SINGLE linear mapping from latent → (θ̂ , ω̂).          │\n",
    "    #      this will be trained jointly with V-JEPA and the HNN.            │\n",
    "    ######################################################################\n",
    "    latent_dim  = embed_dim              # = 384 in your config\n",
    "    theta_head  = torch.nn.Linear(latent_dim, 2, bias=True).to(device)\n",
    "    \n",
    "    ######################################################################\n",
    "    # (C)  instantiate an HNN ONCE  (again, right after model creation)\n",
    "    ######################################################################\n",
    "    vec_field = HNN(\n",
    "        input_dim            = 2,            # (q, p)  where q = θ , p = ω\n",
    "        differentiable_model = MLP(2, 256, 2),\n",
    "        field_type           = 'solenoidal', # canonical Hamiltonian flow\n",
    "        baseline             = False\n",
    "    ).to(device)\n",
    "\n",
    "    optimizer = optim.AdamW(\n",
    "    list(model.parameters()) +\n",
    "    list(theta_head.parameters()) +\n",
    "    list(vec_field.parameters()),\n",
    "    lr=learning_rate)\n",
    "\n",
    "    # ------- training --------------------------------------------\n",
    "    losses = train_vjepa(model, theta_head, vec_field,\n",
    "                     train_loader, optimizer,\n",
    "                     num_epochs=num_epochs)\n",
    "\n",
    "    # Plot training loss\n",
    "    plot_training_loss(losses)\n",
    "\n",
    "    # Visualize reconstructions\n",
    "    visualize_reconstructions(model, dataset)\n",
    "\n",
    "    # Save final model\n",
    "    torch.save({\n",
    "        'model_state_dict': model.state_dict(),\n",
    "        'optimizer_state_dict': optimizer.state_dict(),\n",
    "    }, \"vjepa_pendulum_final.pt\")\n",
    "\n",
    "    print(\"Training completed!\")\n",
    "\n",
    "    analyze_vjepa_latent_phase_relation(model,dataset )\n",
    "    plot_true_phase_space(dataset)\n",
    "    # plot_energy_conservation(dataset)\n",
    "\n",
    "if __name__ == \"__main__\":\n",
    "    main()"
   ]
  },
  {
   "cell_type": "code",
   "execution_count": null,
   "id": "3ff3101c",
   "metadata": {},
   "outputs": [],
   "source": [
    "# ---------------------------------------------------------------\n",
    "# Torch re-implementation of Miles Cranmer’s LNN (JAX → PyTorch)\n",
    "# ---------------------------------------------------------------\n",
    "class LNN(nn.Module):\n",
    "    \"\"\"\n",
    "    Minimal PyTorch Lagrangian Neural Network.\n",
    "    Learns a scalar L(q, v); returns Euler–Lagrange residual loss.\n",
    "    \"\"\"\n",
    "    def __init__(self, input_dim, hidden_dim=256):\n",
    "        super().__init__()\n",
    "        self.net = nn.Sequential(\n",
    "            nn.Linear(input_dim, hidden_dim), nn.Tanh(),\n",
    "            nn.Linear(hidden_dim, hidden_dim), nn.Tanh(),\n",
    "            nn.Linear(hidden_dim, 1)\n",
    "        )\n",
    "\n",
    "    def forward(self, qv):                    # (B, 2d) → scalar L\n",
    "        return self.net(qv)\n",
    "\n",
    "    def lagrangian_residual(self, q, v, dt=1.0):\n",
    "        \"\"\"\n",
    "        q, v : (B, T, d)  – batch of trajectories (T≥2).\n",
    "        Returns MSE of Euler–Lagrange residuals over B×(T-1) steps.\n",
    "        \"\"\"\n",
    "        B, T, d = q.shape\n",
    "        z   = torch.cat([q, v], dim=-1).reshape(B*T, -1).requires_grad_(True)\n",
    "        L   = self.forward(z).sum()                    # scalar\n",
    "        dLd  = torch.autograd.grad(L, z, create_graph=True)[0]\n",
    "        dL_dq, dL_dv = dLd.split(d, dim=-1)\n",
    "        dL_dq = dL_dq.reshape(B, T, d)\n",
    "        dL_dv = dL_dv.reshape(B, T, d)\n",
    "\n",
    "        # finite-difference time derivative of ∂L/∂v\n",
    "        ddt_dLdv = (dL_dv[:,1:] - dL_dv[:,:-1]) / dt   # (B,T-1,d)\n",
    "        res      = ddt_dLdv - dL_dq[:,:-1]             # (B,T-1,d)\n",
    "        return (res**2).mean()"
   ]
  },
  {
   "cell_type": "code",
   "execution_count": 31,
   "id": "a9a8c51c",
   "metadata": {},
   "outputs": [],
   "source": [
    "def analyze_vjepa_latent_phase_relation(model, dataset,\n",
    "                                        batch_size=64, num_samples=500):\n",
    "    \"\"\"\n",
    "    Regression of V-JEPA latent vectors → (theta, omega).\n",
    "    Works with the sequence-dataset (T ≥ 2).\n",
    "    \"\"\"\n",
    "    model.eval()\n",
    "    loader = DataLoader(dataset, batch_size=batch_size, shuffle=True)\n",
    "\n",
    "    latents, theta_list, omega_list = [], [], []\n",
    "    collected = 0\n",
    "\n",
    "    for seq, states in tqdm(loader, desc=\"extract\"):\n",
    "        # seq  : (B,T,C,H,W)   – take first frame\n",
    "        imgs = seq[:, 0].to(next(model.parameters()).device)  # (B,C,H,W)\n",
    "        theta = states[:, 0, 0].numpy()   # true θ at t=0\n",
    "        omega = states[:, 0, 1].numpy()   # true ω at t=0\n",
    "\n",
    "        with torch.no_grad():\n",
    "            x = model.patch_embed(imgs) + model.pos_embed        # (B,N,D)\n",
    "            x = model.context_encoder(x)\n",
    "            pooled = x.mean(1).cpu()                 # (B,D)\n",
    "\n",
    "        latents.append(pooled)\n",
    "        theta_list.extend(theta)\n",
    "        omega_list.extend(omega)\n",
    "\n",
    "        collected += imgs.size(0)\n",
    "        if collected >= num_samples:\n",
    "            break\n",
    "\n",
    "    Z   = torch.cat(latents, 0).numpy()[:num_samples]\n",
    "    θ   = np.array(theta_list)[:num_samples].reshape(-1, 1)\n",
    "    ω   = np.array(omega_list)[:num_samples].reshape(-1, 1)\n",
    "\n",
    "    # linear regressions\n",
    "    reg_θ = LinearRegression().fit(Z, θ)\n",
    "    reg_ω = LinearRegression().fit(Z, ω)\n",
    "\n",
    "    θ̂ = reg_θ.predict(Z)\n",
    "    ω̂ = reg_ω.predict(Z)\n",
    "\n",
    "    print(f\"θ  R²={r2_score(θ, θ̂):.4f},  MSE={mean_squared_error(θ, θ̂):.4e}\")\n",
    "    print(f\"ω  R²={r2_score(ω, ω̂):.4f},  MSE={mean_squared_error(ω, ω̂):.4e}\")\n",
    "\n",
    "    # scatter plots\n",
    "    plt.figure(figsize=(10,4))\n",
    "    plt.subplot(1,2,1); plt.scatter(θ, θ̂, s=8, alpha=.6); plt.xlabel(\"true θ\"); plt.ylabel(\"pred θ\"); plt.grid()\n",
    "    plt.subplot(1,2,2); plt.scatter(ω, ω̂, s=8, alpha=.6); plt.xlabel(\"true ω\"); plt.ylabel(\"pred ω\"); plt.grid()\n",
    "    plt.suptitle(\"Latent → phase-space regression\"); plt.tight_layout(); plt.show()"
   ]
  },
  {
   "cell_type": "code",
   "execution_count": 33,
   "id": "14f37745",
   "metadata": {},
   "outputs": [],
   "source": [
    "def plot_true_phase_space(dataset, num_samples=500):\n",
    "    \"\"\"Scatter of θ vs ω using every time-step until num_samples points.\"\"\"\n",
    "    theta_vals, omega_vals = [], []\n",
    "    collected = 0\n",
    "    for _, states in dataset:                 # states: (T,2)\n",
    "        for t in range(states.shape[0]):\n",
    "            theta_vals.append(states[t, 0].item())\n",
    "            omega_vals.append(states[t, 1].item())\n",
    "            collected += 1\n",
    "            if collected >= num_samples:\n",
    "                break\n",
    "        if collected >= num_samples:\n",
    "            break\n",
    "\n",
    "    plt.figure(figsize=(6, 5))\n",
    "    plt.plot(theta_vals, omega_vals, \".\", alpha=0.4)\n",
    "    plt.xlabel(\"theta (rad)\")          # ← plain text avoids mathtext parser\n",
    "    plt.ylabel(\"theta_dot (rad/s)\")\n",
    "    plt.title(\"True Phase-Space Trajectory\")\n",
    "    plt.grid(True)\n",
    "    plt.tight_layout()\n",
    "    plt.show()"
   ]
  },
  {
   "cell_type": "code",
   "execution_count": 47,
   "id": "f8f0f5d9",
   "metadata": {},
   "outputs": [],
   "source": [
    "@torch.no_grad()\n",
    "def plot_energy_model_vs_truth(model, theta_head,          # trained nets\n",
    "                               dataset, win_idx=0, dt=0.05,\n",
    "                               m=1.0, l=1.0, g=9.81):\n",
    "    \"\"\"\n",
    "    • model        : trained VJEPA\n",
    "    • theta_head   : trained latent→(θ,ω) linear layer\n",
    "    • dataset      : PendulumDataset (windowed version)\n",
    "    • win_idx      : which window to visualise (0 … len(dataset)-1)\n",
    "    • dt           : seconds per frame (Gym default 0.05)\n",
    "    \"\"\"\n",
    "    import numpy as np, matplotlib.pyplot as plt, torch\n",
    "\n",
    "    model.eval(); theta_head.eval()\n",
    "\n",
    "    # -------- get window ----------------------------------------\n",
    "    imgs, states_true = dataset[win_idx]          # imgs: (T,C,H,W)\n",
    "    T = imgs.shape[0]\n",
    "    imgs = imgs.to(device)                        # move to GPU / CPU\n",
    "\n",
    "    # -------- model prediction ----------------------------------\n",
    "    # forward through patch embed + context encoder\n",
    "    lat = model.patch_embed(imgs) + model.pos_embed        # (T,N,D)\n",
    "    lat = model.context_encoder(lat)                       # (T,N,D)\n",
    "    z   = lat.mean(dim=1)                                  # (T,D)\n",
    "    theta_pred, omega_pred = theta_head(z).split(1, dim=1) # (T,1)\n",
    "\n",
    "    theta_pred = theta_pred.squeeze(1).cpu().numpy()\n",
    "    omega_pred = omega_pred.squeeze(1).cpu().numpy()\n",
    "\n",
    "    # -------- ground truth --------------------------------------\n",
    "    if isinstance(states_true, torch.Tensor):\n",
    "        states_true = states_true.numpy()\n",
    "    theta_true, omega_true = states_true[:,0], states_true[:,1]\n",
    "\n",
    "    # -------- energies ------------------------------------------\n",
    "    kin_pred  = 0.5 * m * (l**2) * omega_pred**2\n",
    "    pot_pred  = m * g * l * (1 - np.cos(theta_pred))\n",
    "    E_pred    = kin_pred + pot_pred\n",
    "\n",
    "    kin_true  = 0.5 * m * (l**2) * omega_true**2\n",
    "    pot_true  = m * g * l * (1 - np.cos(theta_true))\n",
    "    E_true    = kin_true + pot_true\n",
    "\n",
    "    t = np.arange(T) * dt\n",
    "\n",
    "    # -------- plot ----------------------------------------------\n",
    "    plt.figure(figsize=(12,4))\n",
    "    plt.plot(t, E_true,  label=\"True Total E\",   lw=1.5)\n",
    "    plt.plot(t, E_pred,  label=\"Predicted Total E\", lw=1.5, ls=\"--\")\n",
    "    plt.xlabel(\"time (s)\"); plt.ylabel(\"energy (J)\")\n",
    "    plt.title(\"Pendulum Energy: model vs. ground truth\")\n",
    "    plt.legend(); plt.grid(True); plt.tight_layout()\n",
    "    plt.show()"
   ]
  },
  {
   "cell_type": "code",
   "execution_count": 48,
   "id": "1ad7bcf6",
   "metadata": {},
   "outputs": [
    {
     "name": "stdout",
     "output_type": "stream",
     "text": [
      "Using device: cpu\n",
      "Generating pendulum trajectories …\n"
     ]
    },
    {
     "name": "stderr",
     "output_type": "stream",
     "text": [
      "  0%|          | 0/50 [00:00<?, ?it/s]/Users/panaschristou/miniforge3/envs/sys_dev/lib/python3.12/site-packages/gym/utils/passive_env_checker.py:233: DeprecationWarning: `np.bool8` is a deprecated alias for `np.bool_`.  (Deprecated NumPy 1.24)\n",
      "  if not isinstance(terminated, (bool, np.bool8)):\n",
      "100%|██████████| 50/50 [00:00<00:00, 139.80it/s]\n"
     ]
    },
    {
     "name": "stdout",
     "output_type": "stream",
     "text": [
      "Created 4900 windows (seq_len=3)\n",
      "Starting training …\n"
     ]
    },
    {
     "name": "stderr",
     "output_type": "stream",
     "text": [
      "Epoch 1/2:   1%|          | 1/154 [00:01<04:00,  1.57s/batch]"
     ]
    },
    {
     "name": "stdout",
     "output_type": "stream",
     "text": [
      "step 0000 | jepa 1.2648 | phys 1.9701\n"
     ]
    },
    {
     "name": "stderr",
     "output_type": "stream",
     "text": [
      "Epoch 1/2:   7%|▋         | 11/154 [00:14<03:00,  1.26s/batch]"
     ]
    },
    {
     "name": "stdout",
     "output_type": "stream",
     "text": [
      "step 0010 | jepa 0.8838 | phys 0.1004\n"
     ]
    },
    {
     "name": "stderr",
     "output_type": "stream",
     "text": [
      "Epoch 1/2:  14%|█▎        | 21/154 [00:25<02:26,  1.10s/batch]"
     ]
    },
    {
     "name": "stdout",
     "output_type": "stream",
     "text": [
      "step 0020 | jepa 0.7318 | phys 0.5279\n"
     ]
    },
    {
     "name": "stderr",
     "output_type": "stream",
     "text": [
      "Epoch 1/2:  20%|██        | 31/154 [00:36<02:17,  1.12s/batch]"
     ]
    },
    {
     "name": "stdout",
     "output_type": "stream",
     "text": [
      "step 0030 | jepa 0.5629 | phys 0.0943\n"
     ]
    },
    {
     "name": "stderr",
     "output_type": "stream",
     "text": [
      "Epoch 1/2:  27%|██▋       | 41/154 [00:48<02:27,  1.30s/batch]"
     ]
    },
    {
     "name": "stdout",
     "output_type": "stream",
     "text": [
      "step 0040 | jepa 0.4405 | phys 0.0944\n"
     ]
    },
    {
     "name": "stderr",
     "output_type": "stream",
     "text": [
      "Epoch 1/2:  33%|███▎      | 51/154 [01:00<01:56,  1.13s/batch]"
     ]
    },
    {
     "name": "stdout",
     "output_type": "stream",
     "text": [
      "step 0050 | jepa 0.3695 | phys 0.0257\n"
     ]
    },
    {
     "name": "stderr",
     "output_type": "stream",
     "text": [
      "Epoch 1/2:  40%|███▉      | 61/154 [01:11<01:41,  1.10s/batch]"
     ]
    },
    {
     "name": "stdout",
     "output_type": "stream",
     "text": [
      "step 0060 | jepa 0.3229 | phys 0.0289\n"
     ]
    },
    {
     "name": "stderr",
     "output_type": "stream",
     "text": [
      "Epoch 1/2:  46%|████▌     | 71/154 [01:22<01:26,  1.04s/batch]"
     ]
    },
    {
     "name": "stdout",
     "output_type": "stream",
     "text": [
      "step 0070 | jepa 0.2953 | phys 0.0179\n"
     ]
    },
    {
     "name": "stderr",
     "output_type": "stream",
     "text": [
      "Epoch 1/2:  53%|█████▎    | 81/154 [01:32<01:16,  1.05s/batch]"
     ]
    },
    {
     "name": "stdout",
     "output_type": "stream",
     "text": [
      "step 0080 | jepa 0.2847 | phys 0.0167\n"
     ]
    },
    {
     "name": "stderr",
     "output_type": "stream",
     "text": [
      "Epoch 1/2:  59%|█████▉    | 91/154 [01:42<01:01,  1.02batch/s]"
     ]
    },
    {
     "name": "stdout",
     "output_type": "stream",
     "text": [
      "step 0090 | jepa 0.2767 | phys 0.0123\n"
     ]
    },
    {
     "name": "stderr",
     "output_type": "stream",
     "text": [
      "Epoch 1/2:  66%|██████▌   | 101/154 [01:52<00:51,  1.03batch/s]"
     ]
    },
    {
     "name": "stdout",
     "output_type": "stream",
     "text": [
      "step 0100 | jepa 0.2691 | phys 0.0133\n"
     ]
    },
    {
     "name": "stderr",
     "output_type": "stream",
     "text": [
      "Epoch 1/2:  72%|███████▏  | 111/154 [02:02<00:42,  1.01batch/s]"
     ]
    },
    {
     "name": "stdout",
     "output_type": "stream",
     "text": [
      "step 0110 | jepa 0.2631 | phys 0.0274\n"
     ]
    },
    {
     "name": "stderr",
     "output_type": "stream",
     "text": [
      "Epoch 1/2:  79%|███████▊  | 121/154 [02:12<00:32,  1.03batch/s]"
     ]
    },
    {
     "name": "stdout",
     "output_type": "stream",
     "text": [
      "step 0120 | jepa 0.2616 | phys 0.0221\n"
     ]
    },
    {
     "name": "stderr",
     "output_type": "stream",
     "text": [
      "Epoch 1/2:  85%|████████▌ | 131/154 [02:21<00:22,  1.03batch/s]"
     ]
    },
    {
     "name": "stdout",
     "output_type": "stream",
     "text": [
      "step 0130 | jepa 0.2560 | phys 0.0237\n"
     ]
    },
    {
     "name": "stderr",
     "output_type": "stream",
     "text": [
      "Epoch 1/2:  92%|█████████▏| 141/154 [02:32<00:14,  1.11s/batch]"
     ]
    },
    {
     "name": "stdout",
     "output_type": "stream",
     "text": [
      "step 0140 | jepa 0.2516 | phys 0.0100\n"
     ]
    },
    {
     "name": "stderr",
     "output_type": "stream",
     "text": [
      "Epoch 1/2:  98%|█████████▊| 151/154 [02:43<00:03,  1.07s/batch]"
     ]
    },
    {
     "name": "stdout",
     "output_type": "stream",
     "text": [
      "step 0150 | jepa 0.2462 | phys 0.0127\n"
     ]
    },
    {
     "name": "stderr",
     "output_type": "stream",
     "text": [
      "Epoch 1/2: 100%|██████████| 154/154 [02:46<00:00,  1.08s/batch]\n"
     ]
    },
    {
     "name": "stdout",
     "output_type": "stream",
     "text": [
      "Epoch 1 avg loss 0.4360\n"
     ]
    },
    {
     "name": "stderr",
     "output_type": "stream",
     "text": [
      "Epoch 2/2:   1%|          | 1/154 [00:01<02:52,  1.13s/batch]"
     ]
    },
    {
     "name": "stdout",
     "output_type": "stream",
     "text": [
      "step 0000 | jepa 0.2390 | phys 0.0094\n"
     ]
    },
    {
     "name": "stderr",
     "output_type": "stream",
     "text": [
      "Epoch 2/2:   7%|▋         | 11/154 [00:11<02:32,  1.06s/batch]"
     ]
    },
    {
     "name": "stdout",
     "output_type": "stream",
     "text": [
      "step 0010 | jepa 0.2358 | phys 0.0128\n"
     ]
    },
    {
     "name": "stderr",
     "output_type": "stream",
     "text": [
      "Epoch 2/2:  14%|█▎        | 21/154 [00:25<02:47,  1.26s/batch]"
     ]
    },
    {
     "name": "stdout",
     "output_type": "stream",
     "text": [
      "step 0020 | jepa 0.2307 | phys 0.0179\n"
     ]
    },
    {
     "name": "stderr",
     "output_type": "stream",
     "text": [
      "Epoch 2/2:  20%|██        | 31/154 [00:36<02:07,  1.04s/batch]"
     ]
    },
    {
     "name": "stdout",
     "output_type": "stream",
     "text": [
      "step 0030 | jepa 0.2238 | phys 0.0112\n"
     ]
    },
    {
     "name": "stderr",
     "output_type": "stream",
     "text": [
      "Epoch 2/2:  27%|██▋       | 41/154 [00:46<01:53,  1.00s/batch]"
     ]
    },
    {
     "name": "stdout",
     "output_type": "stream",
     "text": [
      "step 0040 | jepa 0.2317 | phys 0.0043\n"
     ]
    },
    {
     "name": "stderr",
     "output_type": "stream",
     "text": [
      "Epoch 2/2:  33%|███▎      | 51/154 [00:56<01:44,  1.01s/batch]"
     ]
    },
    {
     "name": "stdout",
     "output_type": "stream",
     "text": [
      "step 0050 | jepa 0.2236 | phys 0.0060\n"
     ]
    },
    {
     "name": "stderr",
     "output_type": "stream",
     "text": [
      "Epoch 2/2:  40%|███▉      | 61/154 [01:06<01:29,  1.03batch/s]"
     ]
    },
    {
     "name": "stdout",
     "output_type": "stream",
     "text": [
      "step 0060 | jepa 0.2229 | phys 0.0038\n"
     ]
    },
    {
     "name": "stderr",
     "output_type": "stream",
     "text": [
      "Epoch 2/2:  46%|████▌     | 71/154 [01:16<01:22,  1.01batch/s]"
     ]
    },
    {
     "name": "stdout",
     "output_type": "stream",
     "text": [
      "step 0070 | jepa 0.2206 | phys 0.0085\n"
     ]
    },
    {
     "name": "stderr",
     "output_type": "stream",
     "text": [
      "Epoch 2/2:  53%|█████▎    | 81/154 [01:26<01:20,  1.11s/batch]"
     ]
    },
    {
     "name": "stdout",
     "output_type": "stream",
     "text": [
      "step 0080 | jepa 0.2185 | phys 0.0050\n"
     ]
    },
    {
     "name": "stderr",
     "output_type": "stream",
     "text": [
      "Epoch 2/2:  59%|█████▉    | 91/154 [01:38<01:14,  1.17s/batch]"
     ]
    },
    {
     "name": "stdout",
     "output_type": "stream",
     "text": [
      "step 0090 | jepa 0.2204 | phys 0.0076\n"
     ]
    },
    {
     "name": "stderr",
     "output_type": "stream",
     "text": [
      "Epoch 2/2:  66%|██████▌   | 101/154 [01:49<00:59,  1.13s/batch]"
     ]
    },
    {
     "name": "stdout",
     "output_type": "stream",
     "text": [
      "step 0100 | jepa 0.2208 | phys 0.0054\n"
     ]
    },
    {
     "name": "stderr",
     "output_type": "stream",
     "text": [
      "Epoch 2/2:  72%|███████▏  | 111/154 [02:01<00:50,  1.17s/batch]"
     ]
    },
    {
     "name": "stdout",
     "output_type": "stream",
     "text": [
      "step 0110 | jepa 0.2175 | phys 0.0072\n"
     ]
    },
    {
     "name": "stderr",
     "output_type": "stream",
     "text": [
      "Epoch 2/2:  79%|███████▊  | 121/154 [02:15<00:42,  1.29s/batch]"
     ]
    },
    {
     "name": "stdout",
     "output_type": "stream",
     "text": [
      "step 0120 | jepa 0.2183 | phys 0.0070\n"
     ]
    },
    {
     "name": "stderr",
     "output_type": "stream",
     "text": [
      "Epoch 2/2:  85%|████████▌ | 131/154 [02:27<00:26,  1.15s/batch]"
     ]
    },
    {
     "name": "stdout",
     "output_type": "stream",
     "text": [
      "step 0130 | jepa 0.2154 | phys 0.0029\n"
     ]
    },
    {
     "name": "stderr",
     "output_type": "stream",
     "text": [
      "Epoch 2/2:  92%|█████████▏| 141/154 [02:39<00:14,  1.14s/batch]"
     ]
    },
    {
     "name": "stdout",
     "output_type": "stream",
     "text": [
      "step 0140 | jepa 0.2231 | phys 0.0029\n"
     ]
    },
    {
     "name": "stderr",
     "output_type": "stream",
     "text": [
      "Epoch 2/2:  98%|█████████▊| 151/154 [02:50<00:03,  1.13s/batch]"
     ]
    },
    {
     "name": "stdout",
     "output_type": "stream",
     "text": [
      "step 0150 | jepa 0.2181 | phys 0.0045\n"
     ]
    },
    {
     "name": "stderr",
     "output_type": "stream",
     "text": [
      "Epoch 2/2: 100%|██████████| 154/154 [02:53<00:00,  1.12s/batch]"
     ]
    },
    {
     "name": "stdout",
     "output_type": "stream",
     "text": [
      "Epoch 2 avg loss 0.2241\n"
     ]
    },
    {
     "name": "stderr",
     "output_type": "stream",
     "text": [
      "\n"
     ]
    },
    {
     "data": {
      "image/png": "[encoded data removed]",
      "text/plain": [
       "<Figure size 800x400 with 1 Axes>"
      ]
     },
     "metadata": {},
     "output_type": "display_data"
    },
    {
     "data": {
      "image/png": "[encoded data removed]",
      "text/plain": [
       "<Figure size 1200x2000 with 15 Axes>"
      ]
     },
     "metadata": {},
     "output_type": "display_data"
    },
    {
     "name": "stdout",
     "output_type": "stream",
     "text": [
      "Training completed!\n"
     ]
    },
    {
     "name": "stderr",
     "output_type": "stream",
     "text": [
      "extract:   9%|▉         | 7/77 [00:01<00:14,  4.69it/s]\n"
     ]
    },
    {
     "name": "stdout",
     "output_type": "stream",
     "text": [
      "θ  R²=1.0000,  MSE=8.3748e-05\n",
      "ω  R²=0.2419,  MSE=8.8211e+00\n"
     ]
    },
    {
     "data": {
      "image/png": "[encoded data removed]",
      "text/plain": [
       "<Figure size 1000x400 with 2 Axes>"
      ]
     },
     "metadata": {},
     "output_type": "display_data"
    },
    {
     "data": {
      "image/png": "[encoded data removed]",
      "text/plain": [
       "<Figure size 600x500 with 1 Axes>"
      ]
     },
     "metadata": {},
     "output_type": "display_data"
    },
    {
     "data": {
      "image/png": "[encoded data removed]",
      "text/plain": [
       "<Figure size 1000x400 with 1 Axes>"
      ]
     },
     "metadata": {},
     "output_type": "display_data"
    },
    {
     "data": {
      "image/png": "[encoded data removed]",
      "text/plain": [
       "<Figure size 1200x400 with 1 Axes>"
      ]
     },
     "metadata": {},
     "output_type": "display_data"
    }
   ],
   "source": [
    "#!/usr/bin/env python3\n",
    "# -------------------------------------------------------------\n",
    "# Vision-JEPA + Lagrangian Neural Network on Pendulum (physics-correct)\n",
    "# -------------------------------------------------------------\n",
    "\n",
    "# ------------------------------------------------------------------\n",
    "# 0 · Reproducibility & Device\n",
    "# ------------------------------------------------------------------\n",
    "torch.manual_seed(42)\n",
    "np.random.seed(42)\n",
    "\n",
    "device = torch.device(\"cuda\" if torch.cuda.is_available() else \"cpu\")\n",
    "print(f\"Using device: {device}\")\n",
    "\n",
    "# ============================\n",
    "# 1. Data Collection / Preparation\n",
    "# ============================\n",
    "class PendulumDataset(Dataset):\n",
    "    \"\"\"\n",
    "    Returns image *sequences* of length `seq_len` (T,C,H,W) and the\n",
    "    corresponding (theta, omega) sequence (T,2).\n",
    "\n",
    "    This allows the LNN to compute a proper Euler–Lagrange residual.\n",
    "    \"\"\"\n",
    "    def __init__(\n",
    "        self,\n",
    "        num_episodes: int = 100,\n",
    "        episode_length: int = 200,\n",
    "        img_size: int = 64,\n",
    "        seq_len: int = 3,\n",
    "        transform=None,\n",
    "    ):\n",
    "        assert seq_len >= 2, \"seq_len must be ≥ 2 for physics loss\"\n",
    "        self.img_size = img_size\n",
    "        self.seq_len  = seq_len\n",
    "        self.transform = transform\n",
    "\n",
    "        self.frames  : list[np.ndarray] = []  # flattened RGB images\n",
    "        self.states  : list[tuple[float,float]] = []  # flattened (θ, ω)\n",
    "        self.indices : list[int] = []  # sample-idx -> start idx of window\n",
    "\n",
    "        self._generate(num_episodes, episode_length)\n",
    "\n",
    "    # -------------- synthetic pendulum renderer ------------------\n",
    "    def _render_pendulum(self, theta: float) -> np.ndarray:\n",
    "        L   = self.img_size * 0.4\n",
    "        cx  = cy = self.img_size // 2\n",
    "        ex  = int(cx + L * np.sin(theta))\n",
    "        ey  = int(cy + L * np.cos(theta))\n",
    "\n",
    "        img = Image.new(\"RGB\", (self.img_size, self.img_size), \"white\")\n",
    "        drw = ImageDraw.Draw(img)\n",
    "        drw.line([(cx, cy), (ex, ey)], fill=\"black\", width=3)\n",
    "        drw.ellipse([(cx-5, cy-5), (cx+5, cy+5)], fill=\"red\")\n",
    "        drw.ellipse([(ex-8, ey-8), (ex+8, ey+8)], fill=\"blue\")\n",
    "        return np.asarray(img).copy()  \n",
    "\n",
    "    # -------------- generate roll-outs ---------------------------\n",
    "    def _generate(self, n_episodes: int, epi_len: int):\n",
    "        print(\"Generating pendulum trajectories …\")\n",
    "        env = gym.make(\"Pendulum-v1\")\n",
    "\n",
    "        for _ in tqdm(range(n_episodes)):\n",
    "            obs, _   = env.reset()\n",
    "            theta    = np.arctan2(obs[1], obs[0])\n",
    "\n",
    "            ep_imgs   : list[np.ndarray] = []\n",
    "            ep_states : list[tuple[float,float]] = []\n",
    "\n",
    "            for _ in range(epi_len):\n",
    "                action = env.action_space.sample()\n",
    "                obs, _, terminated, truncated, _ = env.step(action)\n",
    "                if terminated or truncated:\n",
    "                    break\n",
    "\n",
    "                theta = np.arctan2(obs[1], obs[0])\n",
    "                omega = float(obs[2])\n",
    "\n",
    "                ep_imgs.append(self._render_pendulum(theta))\n",
    "                ep_states.append((theta, omega))\n",
    "\n",
    "            # slide a window of length seq_len\n",
    "            for t0 in range(0, len(ep_imgs) - self.seq_len + 1):\n",
    "                self.indices.append(len(self.frames) + t0)\n",
    "\n",
    "            self.frames.extend(ep_imgs)\n",
    "            self.states.extend(ep_states)\n",
    "\n",
    "        env.close()\n",
    "        print(f\"Created {len(self.indices)} windows (seq_len={self.seq_len})\")\n",
    "\n",
    "    # -------------- Dunder methods -------------------------------\n",
    "    def __len__(self) -> int:\n",
    "        return len(self.indices)\n",
    "\n",
    "    def __getitem__(self, idx: int):\n",
    "        start = self.indices[idx]\n",
    "        end   = start + self.seq_len\n",
    "\n",
    "        imgs = [\n",
    "            torch.from_numpy(self.frames[i]).float().permute(2, 0, 1) / 255.0\n",
    "            for i in range(start, end)\n",
    "        ]\n",
    "        imgs = torch.stack(imgs)            # (T,C,H,W)\n",
    "\n",
    "        states = torch.tensor(\n",
    "            self.states[start:end], dtype=torch.float32\n",
    "        )                                    # (T,2)  θ, ω\n",
    "\n",
    "        if self.transform is not None:\n",
    "            imgs = self.transform(imgs)\n",
    "\n",
    "        return imgs, states\n",
    "\n",
    "# ============================\n",
    "# 2. V-JEPA backbone\n",
    "# ============================\n",
    "class PatchEmbed(nn.Module):\n",
    "    \"\"\"Image → patch embeddings\"\"\"\n",
    "    def __init__(self, img_size=64, patch_size=8, in_chans=3, embed_dim=384):\n",
    "        super().__init__()\n",
    "        self.n_patches = (img_size // patch_size) ** 2\n",
    "        self.proj      = nn.Conv2d(in_chans, embed_dim,\n",
    "                                   kernel_size=patch_size,\n",
    "                                   stride=patch_size)\n",
    "    def forward(self, x):\n",
    "        x = self.proj(x)                     # (B,embed,H',W')\n",
    "        x = x.flatten(2).transpose(1, 2)     # (B,N,embed)\n",
    "        return x\n",
    "\n",
    "class TransformerEncoder(nn.Module):\n",
    "    def __init__(self, embed_dim, depth, num_heads, mlp_ratio):\n",
    "        super().__init__()\n",
    "        self.layers = nn.ModuleList([\n",
    "            nn.TransformerEncoderLayer(\n",
    "                embed_dim,\n",
    "                num_heads,\n",
    "                int(embed_dim * mlp_ratio),\n",
    "                batch_first=True,\n",
    "                norm_first=True\n",
    "            ) for _ in range(depth)\n",
    "        ])\n",
    "    def forward(self, x):\n",
    "        for layer in self.layers:\n",
    "            x = layer(x)\n",
    "        return x\n",
    "\n",
    "class MaskingStrategy:\n",
    "    \"\"\"Block + random masking identical to original V-JEPA impl.\"\"\"\n",
    "    def __init__(self, num_patches, mask_ratio=0.75, block_size=4):\n",
    "        self.N  = num_patches\n",
    "        self.r  = mask_ratio\n",
    "        self.bs = block_size\n",
    "\n",
    "    def random_masking(self, B):\n",
    "        n_keep = int(self.N * (1 - self.r))\n",
    "        noise  = torch.rand(B, self.N, device=device)\n",
    "        ids    = torch.argsort(noise, dim=1)\n",
    "        restore= torch.argsort(ids , dim=1)\n",
    "        mask   = torch.ones(B, self.N, device=device)\n",
    "        mask[:, :n_keep] = 0\n",
    "        mask   = torch.gather(mask, 1, restore)\n",
    "        return mask.bool()\n",
    "\n",
    "    def block_masking(self, B):\n",
    "        grid  = int(np.sqrt(self.N))\n",
    "        masks = torch.zeros(B, self.N, device=device)\n",
    "        n_blk = int((self.N * self.r) / (self.bs ** 2))\n",
    "        for b in range(B):\n",
    "            for _ in range(n_blk):\n",
    "                h0 = np.random.randint(0, grid - self.bs + 1)\n",
    "                w0 = np.random.randint(0, grid - self.bs + 1)\n",
    "                for h in range(h0, h0 + self.bs):\n",
    "                    for w in range(w0, w0 + self.bs):\n",
    "                        masks[b, h * grid + w] = 1\n",
    "        return masks.bool()\n",
    "\n",
    "class VJEPA(nn.Module):\n",
    "    \"\"\"\n",
    "    Vision-based Joint Embedding Predictive Architecture\n",
    "    (unchanged naming; context / target encoders etc.)\n",
    "    \"\"\"\n",
    "    def __init__(\n",
    "        self,\n",
    "        img_size=64,\n",
    "        patch_size=8,\n",
    "        in_chans=3,\n",
    "        embed_dim=384,\n",
    "        depth=6,\n",
    "        num_heads=6,\n",
    "        mlp_ratio=4.0,\n",
    "        prediction_head_dim=192,\n",
    "    ):\n",
    "        super().__init__()\n",
    "        self.patch_embed = PatchEmbed(img_size, patch_size, in_chans, embed_dim)\n",
    "        self.num_patches = self.patch_embed.n_patches\n",
    "        self.pos_embed   = nn.Parameter(torch.zeros(1, self.num_patches, embed_dim))\n",
    "\n",
    "        self.context_encoder = TransformerEncoder(\n",
    "            embed_dim, depth, num_heads, mlp_ratio\n",
    "        )\n",
    "        self.target_encoder  = TransformerEncoder(\n",
    "            embed_dim, depth, num_heads, mlp_ratio\n",
    "        )\n",
    "\n",
    "        self.predictor = nn.Sequential(\n",
    "            nn.Linear(embed_dim, prediction_head_dim),\n",
    "            nn.GELU(),\n",
    "            nn.Linear(prediction_head_dim, embed_dim)\n",
    "        )\n",
    "\n",
    "        self.masking = MaskingStrategy(self.num_patches)\n",
    "        nn.init.normal_(self.pos_embed, std=0.02)\n",
    "\n",
    "    # ---------- helpers ----------\n",
    "    def forward_context(self, imgs, context_mask):\n",
    "        x = self.patch_embed(imgs) + self.pos_embed  # (B,N,D)\n",
    "        B, N, D = x.shape\n",
    "        keep    = ~context_mask\n",
    "        out     = torch.stack([\n",
    "            F.pad(x[i][keep[i]], (0, 0, 0, N - keep[i].sum()))\n",
    "            for i in range(B)\n",
    "        ])\n",
    "        return self.context_encoder(out)\n",
    "\n",
    "    def forward_target(self, imgs, target_mask):\n",
    "        x = self.patch_embed(imgs) + self.pos_embed\n",
    "        B, N, D = x.shape\n",
    "        out = torch.stack([\n",
    "            F.pad(x[i][target_mask[i]], (0, 0, 0, N - target_mask[i].sum()))\n",
    "            for i in range(B)\n",
    "        ])\n",
    "        return self.target_encoder(out)\n",
    "\n",
    "    # ---------- main forward ----------\n",
    "    def forward(self, imgs):\n",
    "        \"\"\"\n",
    "        Returns:\n",
    "            loss  : MSE between predictor(ctx) and target_feats\n",
    "            pred  : predicted embeddings\n",
    "            target: target embeddings\n",
    "        \"\"\"\n",
    "        B = imgs.size(0)\n",
    "        cmask = self.masking.block_masking(B)\n",
    "        tmask = self.masking.random_masking(B) & ~cmask\n",
    "\n",
    "        ctx_feats = self.forward_context(imgs, cmask)\n",
    "        with torch.no_grad():\n",
    "            tgt_feats = self.forward_target(imgs, tmask)\n",
    "\n",
    "        pred = self.predictor(ctx_feats)\n",
    "        loss = F.mse_loss(pred, tgt_feats)\n",
    "\n",
    "        return loss, pred, tgt_feats\n",
    "\n",
    "# ============================\n",
    "# 3. Lagrangian Neural Network\n",
    "# ============================\n",
    "class LNN(nn.Module):\n",
    "    \"\"\"\n",
    "    Minimal PyTorch port of Miles Cranmer's LNN.\n",
    "    Learns scalar L(q,v); physics loss is Euler–Lagrange residual.\n",
    "    \"\"\"\n",
    "    def __init__(self, input_dim, hidden_dim=256):\n",
    "        super().__init__()\n",
    "        self.net = nn.Sequential(\n",
    "            nn.Linear(input_dim, hidden_dim), nn.Tanh(),\n",
    "            nn.Linear(hidden_dim, hidden_dim), nn.Tanh(),\n",
    "            nn.Linear(hidden_dim, 1)\n",
    "        )\n",
    "\n",
    "    def forward(self, qv):                     # (B,2d) → scalar L\n",
    "        return self.net(qv)\n",
    "\n",
    "    def lagrangian_residual(self, q, v, dt=0.01):\n",
    "        \"\"\"\n",
    "        q, v : (B, T, d) tensors with T ≥ 2.\n",
    "        Returns mean-squared Euler–Lagrange residual over (B,T-1,d).\n",
    "        \"\"\"\n",
    "        B, T, d = q.shape\n",
    "        z   = torch.cat([q, v], dim=-1).reshape(B*T, -1).requires_grad_(True)\n",
    "        L   = self.forward(z).sum()\n",
    "        dLd = torch.autograd.grad(L, z, create_graph=True)[0]\n",
    "        dLdq, dLdv = dLd.split(d, dim=-1)\n",
    "        dLdq = dLdq.view(B, T, d)\n",
    "        dLdv = dLdv.view(B, T, d)\n",
    "\n",
    "        ddt_dLdv = (dLdv[:, 1:] - dLdv[:, :-1]) / dt  # (B,T-1,d)\n",
    "        residual = ddt_dLdv - dLdq[:, :-1]           # Euler–Lagrange\n",
    "        return (residual ** 2).mean()\n",
    "\n",
    "# ============================\n",
    "# 4. Training Function\n",
    "# ============================\n",
    "def train_vjepa(\n",
    "    model,\n",
    "    theta_head,\n",
    "    lnn_net,\n",
    "    train_loader,\n",
    "    optimizer,\n",
    "    num_epochs=10,\n",
    "    log_interval=10,\n",
    "    lambda_phys=1e-3,\n",
    "    lambda_sup=1e-2,\n",
    "):\n",
    "    model.train()\n",
    "    theta_head.train()\n",
    "    lnn_net.train()\n",
    "    losses = []\n",
    "\n",
    "    print(\"Starting training …\")\n",
    "    for epoch in range(num_epochs):\n",
    "        epoch_loss = 0.0\n",
    "        for step, (imgs_seq, states_seq) in enumerate(\n",
    "            tqdm(train_loader, desc=f\"Epoch {epoch+1}/{num_epochs}\", unit=\"batch\")\n",
    "        ):\n",
    "            imgs_seq   = imgs_seq.to(device)    # (B,T,C,H,W)\n",
    "            theta_seq  = states_seq[:, :, 0:1].to(device)  # (B,T,1)\n",
    "            omega_seq  = states_seq[:, :, 1:2].to(device)  # (B,T,1)\n",
    "\n",
    "            # ----- JEPA loss on first frame only -----\n",
    "            imgs0 = imgs_seq[:, 0]               # (B,C,H,W)\n",
    "            loss_jepa, _, _ = model(imgs0)\n",
    "\n",
    "            # ----- latent → (θ̂, ω̂) (single frame) -----\n",
    "            lat = model.patch_embed(imgs0) + model.pos_embed  # (B,N,D)\n",
    "            lat = model.context_encoder(lat)                   # (B,N,D)\n",
    "            z   = lat.mean(dim=1)                              # (B,D)\n",
    "            theta_hat, omega_hat = theta_head(z).split(1, dim=1)\n",
    "\n",
    "            # ----- physics loss on true trajectory -----\n",
    "            phys_loss = lnn_net.lagrangian_residual(theta_seq, omega_seq)\n",
    "\n",
    "            # ----- optional supervised θ loss (t=0) -----\n",
    "            sup_loss = F.mse_loss(theta_hat, theta_seq[:, 0])\n",
    "\n",
    "            # ----- total -----\n",
    "            loss = (\n",
    "                loss_jepa\n",
    "                + lambda_phys * phys_loss\n",
    "                + lambda_sup  * sup_loss\n",
    "            )\n",
    "            optimizer.zero_grad()\n",
    "            loss.backward()\n",
    "            optimizer.step()\n",
    "\n",
    "            epoch_loss += loss.item()\n",
    "\n",
    "            if step % log_interval == 0:\n",
    "                tqdm.write(\n",
    "                    f\"step {step:04d} | jepa {loss_jepa.item():.4f} \"\n",
    "                    f\"| phys {phys_loss.item():.4f}\"\n",
    "                )\n",
    "\n",
    "        avg = epoch_loss / len(train_loader)\n",
    "        losses.append(avg)\n",
    "        print(f\"Epoch {epoch+1} avg loss {avg:.4f}\")\n",
    "    return losses\n",
    "\n",
    "def visualize_reconstructions(model, dataset, num_samples=5):\n",
    "    \"\"\"Show original, context-masked and target-masked frames.\"\"\"\n",
    "    model.eval()\n",
    "\n",
    "    loader = DataLoader(dataset, batch_size=num_samples, shuffle=True)\n",
    "    seq, _ = next(iter(loader))          # seq: (B,T,C,H,W)\n",
    "    imgs   = seq[:, 0].to(device)        # take frame t=0 → (B,C,H,W)\n",
    "\n",
    "    with torch.no_grad():\n",
    "        B = imgs.size(0)\n",
    "        context_mask = model.masking.block_masking(B)\n",
    "        target_mask  = model.masking.random_masking(B) & ~context_mask\n",
    "        context_feats = model.forward_context(imgs, context_mask)\n",
    "        pred = model.predictor(context_feats)\n",
    "        \n",
    "    # Visualize the results\n",
    "    plt.figure(figsize=(12, 4 * num_samples))\n",
    "\n",
    "    for i in range(num_samples):\n",
    "        # Original image\n",
    "        plt.subplot(num_samples, 3, i * 3 + 1)\n",
    "        img = imgs[i].cpu().permute(1, 2, 0).numpy()\n",
    "        plt.imshow(img)\n",
    "        plt.title(\"Original\")\n",
    "        plt.axis('off')\n",
    "\n",
    "        # Masked image (context)\n",
    "        plt.subplot(num_samples, 3, i * 3 + 2)\n",
    "        masked_img = imgs[i].clone().cpu()\n",
    "\n",
    "        grid_size = int(np.sqrt(model.num_patches))\n",
    "        mask_reshaped = context_mask[i].reshape(1, 1, grid_size, grid_size).float()\n",
    "        mask_upsampled = F.interpolate(\n",
    "            mask_reshaped,\n",
    "            size=(imgs.shape[2], imgs.shape[3]),\n",
    "            mode='nearest'\n",
    "        ).squeeze()\n",
    "\n",
    "        for c in range(3):\n",
    "            masked_img[c][mask_upsampled.bool()] = 0.5  # Gray out masked areas\n",
    "\n",
    "        plt.imshow(masked_img.permute(1, 2, 0).numpy())\n",
    "        plt.title(\"Context (Visible Regions)\")\n",
    "        plt.axis('off')\n",
    "\n",
    "        # Target image (highlight predicted regions)\n",
    "        plt.subplot(num_samples, 3, i * 3 + 3)\n",
    "        target_img = imgs[i].clone().cpu()\n",
    "\n",
    "        target_mask_reshaped = target_mask[i].reshape(1, 1, grid_size, grid_size).float()\n",
    "        target_mask_upsampled = F.interpolate(\n",
    "            target_mask_reshaped,\n",
    "            size=(imgs.shape[2], imgs.shape[3]),\n",
    "            mode='nearest'\n",
    "        ).squeeze()\n",
    "\n",
    "        for c in range(3):\n",
    "            if c == 0:  # Red channel\n",
    "                target_img[c][target_mask_upsampled.bool()] = 1.0\n",
    "            else:\n",
    "                target_img[c][target_mask_upsampled.bool()] = 0.3\n",
    "\n",
    "        plt.imshow(target_img.permute(1, 2, 0).numpy())\n",
    "        plt.title(\"Target (Predicted Regions)\")\n",
    "        plt.axis('off')\n",
    "\n",
    "    plt.tight_layout()\n",
    "    plt.savefig('vjepa_reconstructions.png')\n",
    "    plt.show()\n",
    "    \n",
    "# ============================\n",
    "# 5. Simple loss plot helper\n",
    "# ============================\n",
    "def plot_training_loss(loss_list):\n",
    "    plt.figure(figsize=(8,4))\n",
    "    plt.plot(loss_list, marker=\"o\")\n",
    "    plt.xlabel(\"Epoch\")\n",
    "    plt.ylabel(\"Total loss\")\n",
    "    plt.title(\"Training loss\")\n",
    "    plt.grid(True)\n",
    "    plt.tight_layout()\n",
    "    plt.show()\n",
    "\n",
    "\n",
    "# ============================\n",
    "# 7. Main\n",
    "# ============================\n",
    "def main():\n",
    "    # ---- config ----\n",
    "    batch_size    = 32\n",
    "    img_size      = 64\n",
    "    patch_size    = 8\n",
    "    embed_dim     = 384\n",
    "    depth         = 6\n",
    "    num_heads     = 6\n",
    "    pred_head_dim = 192\n",
    "    learning_rate = 1e-4\n",
    "    num_epochs    = 2\n",
    "    seq_len       = 3\n",
    "\n",
    "    # ---- dataset & loader ----\n",
    "    dataset = PendulumDataset(\n",
    "        num_episodes=50,\n",
    "        episode_length=100,\n",
    "        img_size=img_size,\n",
    "        seq_len=seq_len\n",
    "    )\n",
    "    train_loader = DataLoader(\n",
    "        dataset,\n",
    "        batch_size=batch_size,\n",
    "        shuffle=True,\n",
    "        num_workers=0,\n",
    "        pin_memory=False,\n",
    "    )\n",
    "\n",
    "    # ---- models ----\n",
    "    model = VJEPA(\n",
    "        img_size         = img_size,\n",
    "        patch_size       = patch_size,\n",
    "        in_chans         = 3,\n",
    "        embed_dim        = embed_dim,\n",
    "        depth            = depth,\n",
    "        num_heads        = num_heads,\n",
    "        mlp_ratio        = 4.0,\n",
    "        prediction_head_dim = pred_head_dim,\n",
    "    ).to(device)\n",
    "\n",
    "    theta_head = nn.Linear(embed_dim, 2).to(device)\n",
    "    lnn_net    = LNN(input_dim=2, hidden_dim=256).to(device)\n",
    "\n",
    "    # ---- optimiser ----\n",
    "    optimizer = optim.AdamW(\n",
    "        list(model.parameters())\n",
    "        + list(theta_head.parameters())\n",
    "        + list(lnn_net.parameters()),\n",
    "        lr=learning_rate)\n",
    "    \n",
    "    # ───────────────────────────\n",
    "    # 6 · Training\n",
    "    # ───────────────────────────\n",
    "    losses = train_vjepa(\n",
    "        model, theta_head, lnn_net,\n",
    "        train_loader, optimizer,\n",
    "        num_epochs=num_epochs\n",
    "    )\n",
    "\n",
    "    plot_training_loss(losses)\n",
    "    visualize_reconstructions(model, dataset)\n",
    "\n",
    "    # save checkpoint\n",
    "    torch.save({\n",
    "        \"model_state_dict\": model.state_dict(),\n",
    "        \"optimizer_state_dict\": optimizer.state_dict(),\n",
    "    }, \"vjepa_pendulum_final.pt\")\n",
    "\n",
    "    print(\"Training completed!\")\n",
    "    analyze_vjepa_latent_phase_relation(model, dataset)\n",
    "    plot_true_phase_space(dataset)\n",
    "    plot_energy_conservation(dataset)   # uncomment if desired\n",
    "    plot_energy_model_vs_truth(\n",
    "    model,            # your trained VJEPA\n",
    "    theta_head,       # trained latent→(θ,ω) layer\n",
    "    dataset,\n",
    "    win_idx=0         # pick any window index you like\n",
    ")\n",
    "\n",
    "\n",
    "if __name__ == \"__main__\":\n",
    "    main()"
   ]
  }
 ],
 "metadata": {
  "kernelspec": {
   "display_name": "sys_dev",
   "language": "python",
   "name": "python3"
  },
  "language_info": {
   "codemirror_mode": {
    "name": "ipython",
    "version": 3
   },
   "file_extension": ".py",
   "mimetype": "text/x-python",
   "name": "python",
   "nbconvert_exporter": "python",
   "pygments_lexer": "ipython3",
   "version": "3.12.10"
  }
 },
 "nbformat": 4,
 "nbformat_minor": 5
}
