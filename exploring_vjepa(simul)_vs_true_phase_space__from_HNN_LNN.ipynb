{
  "nbformat": 4,
  "nbformat_minor": 0,
  "metadata": {
    "colab": {
      "provenance": []
    },
    "kernelspec": {
      "name": "python3",
      "display_name": "Python 3"
    },
    "language_info": {
      "name": "python"
    }
  },
  "cells": [
    {
      "cell_type": "markdown",
      "source": [
        "## Intro\n",
        "\n",
        "Analysis : integrate three modeling for a pendulum system 1 VJEPA 2 HNN 3 LNN.\n",
        "All models learn from the same dynamics of the pendulum, then we compare them through their learned phase-space representation.\n",
        "\n",
        "Important Notes:\n",
        "- V-JEPA : predicts future visual features instead of raw pixels. Uses masking, learns embeddings that capture dynamics. It operates in latent space with no pixel-level reconstruction.\n",
        "\n",
        "- HNN : Hamiltonian embeds energy conservation into learning. It learns a scalar Hamiltonian function $H(q,p)$ that the models predicted dynamics automatically conserve energy. They want data in coordinates (angle $q$ and momentum $p$) and output time derivatives $\\dot q, \\dot p$ via the Hamiltonian's gradients.\n",
        "\n",
        "- LNN : LNNs embed Lagrangian mechanics, learning a function that yields the systems equations of motion via EL Equation. They work with coordinates and velocities directly. They produce models that conserve energy and respect physical symmetries, sometimes better than HNNs.\n",
        "\n",
        "\n",
        "After we train all on a pendulum, we explore the phase-space represnetations. The phase space of a pendulum consists of closed orbits for different energies. We compare the learned representations by visualizing trajectories in this space (via latent embeddings for V-JEPA or predicted $(q,p)$ for HNN/LNN. We try to evaluate how well each model conserves energy or predicts dynamics.\n",
        "\n",
        "### Simulation :\n",
        "To simulate pendulum data, we use a simple pendulu with unit length and gravity. The state is $(q, \\dot q)$ where $q$ is the angular displacement from the downward vertical (in radians), and $\\dot q$ is angular velocity. . We generate multiple trajectories with random initial angles and velocities, and record the state sequences and corresponding video frames. s: We choose initial $q \\in [-\\frac{\\pi}{2}, \\frac{\\pi}{2}]$ (to avoid starting fully inverted) and initial $\\omega \\in [-2, 2]$ (moderate energy). Each trajectory lasts for a short duration (e.g. 1.5 seconds) sampled at a fixed FPS to yield a sequence of frames. Here we use 16 frames per trajectory. We also define a helper to render a pendulum image for a given angle. We draw a pendulum rod and bob on a plain background. During training, we will apply random masking to these images (e.g. blanking out random patches) to simulate occlusions and force the model to learn robust representations."
      ],
      "metadata": {
        "id": "CYzJabUdNl4a"
      }
    },
    {
      "cell_type": "code",
      "execution_count": 1,
      "metadata": {
        "id": "amsiG1_yGZuC"
      },
      "outputs": [],
      "source": [
        "import numpy as np\n",
        "from math import sin, cos\n",
        "from PIL import Image, ImageDraw\n",
        "\n",
        "# Pendulum and rendering settings\n",
        "IMG_SIZE = 64            # image resolution (square)\n",
        "PIVOT = (IMG_SIZE//2, int(0.3*IMG_SIZE))  # pivot x at center, y at 30% from top\n",
        "ROD_LENGTH = int(0.3*IMG_SIZE)           # rod length in pixels (30% of image height)\n",
        "BOB_RADIUS = 3                           # bob radius in pixels\n",
        "\n",
        "def pendulum_dynamics(t, state):\n",
        "    \"\"\"Continuous pendulum ODE: state = [q, w]; returns [dq_dt, dw_dt].\"\"\"\n",
        "    q, w = state\n",
        "    dq_dt = w\n",
        "    dw_dt = -sin(q)  # (g=1, l=1)\n",
        "    return np.array([dq_dt, dw_dt])\n",
        "\n",
        "def simulate_pendulum(q0, w0, T=1.5, steps=16):\n",
        "    \"\"\"Simulate pendulum from initial angle q0 and angular velocity w0.\"\"\"\n",
        "    t_seq = np.linspace(0, T, steps)\n",
        "    dt = t_seq[1] - t_seq[0]\n",
        "    states = np.zeros((steps, 2))\n",
        "    states[0] = [q0, w0]\n",
        "    # simple numerical integration (RK4 or Euler)\n",
        "    for i in range(1, steps):\n",
        "        # RK4 integration for better accuracy\n",
        "        x = states[i-1]\n",
        "        k1 = pendulum_dynamics(t_seq[i-1], x)\n",
        "        k2 = pendulum_dynamics(t_seq[i-1] + dt/2, x + dt*k1/2)\n",
        "        k3 = pendulum_dynamics(t_seq[i-1] + dt/2, x + dt*k2/2)\n",
        "        k4 = pendulum_dynamics(t_seq[i], x + dt*k3)\n",
        "        states[i] = x + (dt/6)*(k1 + 2*k2 + 2*k3 + k4)\n",
        "    return t_seq, states\n",
        "\n",
        "def render_pendulum_image(angle):\n",
        "    \"\"\"Render a 64x64 image of pendulum at given angle (in radians).\"\"\"\n",
        "    # Coordinates of bob given angle (0 = downward)\n",
        "    x0, y0 = PIVOT\n",
        "    # Pendulum bob position (angle measured clockwise from downward vertical)\n",
        "    x_bob = x0 + ROD_LENGTH * sin(angle)\n",
        "    y_bob = y0 + ROD_LENGTH * cos(angle)\n",
        "    img = Image.new('RGB', (IMG_SIZE, IMG_SIZE), color=(255,255,255))  # white background\n",
        "    draw = ImageDraw.Draw(img)\n",
        "    # Draw rod\n",
        "    draw.line([x0, y0, x_bob, y_bob], fill=(0,0,0), width=2)\n",
        "    # Draw bob\n",
        "    draw.ellipse([x_bob-BOB_RADIUS, y_bob-BOB_RADIUS, x_bob+BOB_RADIUS, y_bob+BOB_RADIUS],\n",
        "                 fill=(0,0,255))  # blue bob\n",
        "    return img\n",
        "\n",
        "# Generate training dataset\n",
        "np.random.seed(0)\n",
        "num_trajectories = 100   # e.g. 100 training trajectories\n",
        "trajectories = []        # will hold sequences of states\n",
        "frames = []              # will hold sequences of images\n",
        "for _ in range(num_trajectories):\n",
        "    q0 = np.random.uniform(-1.5, 1.5)    # initial angle (radians)\n",
        "    w0 = np.random.uniform(-1.5, 1.5)    # initial angular velocity\n",
        "    t_seq, states = simulate_pendulum(q0, w0, T=1.5, steps=16)\n",
        "    trajectories.append(states)\n",
        "    # Render frames for this trajectory\n",
        "    seq_imgs = [render_pendulum_image(q) for q, _ in states]\n",
        "    frames.append(seq_imgs)\n",
        "\n",
        "# Convert lists to arrays for convenience\n",
        "trajectories = np.array(trajectories)    # shape (100, 16, 2)\n"
      ]
    },
    {
      "cell_type": "markdown",
      "source": [
        "\n",
        "\n",
        "We now have trajectories containing the true states (angle $q$ and angular velocity $w$) for each time-step, and frames containing the corresponding rendered images. These will be used to train the models."
      ],
      "metadata": {
        "id": "NcSI7lziPll9"
      }
    },
    {
      "cell_type": "markdown",
      "source": [
        "V-JEPA: Vision Joint Embedding Predictive Architecture\n",
        "\n",
        "Model Architecture: For V-JEPA, we build a simple encoder-predictor setup:\n",
        " An encoder network $f_{\\theta}$ that takes an image (or a set of context frames) and outputs a latent representation $z$. In practice, we use a small convolutional neural network (CNN) to encode a single frame into a low-dimensional embedding. We will choose a 2-dimensional latent for interpretability (so the model is forced to learn a 2D representation of the pendulum’s state, analogous to angle and angular velocity).\n",
        "  \n",
        "  A predictor network $g_{\\phi}$ that takes the latent encoding of the context and predicts the latent encoding of a target future frame. Here we use a simple multilayer perceptron (MLP) that maps $z_{\\text{context}}$ to $z_{\\text{pred}}$.\n",
        "\n",
        "Training setup: We train the V-JEPA by sampling pairs of frames from each trajectory: one as context (e.g. an initial frame) and one as a target at a later time. The context image is passed through $f_{\\theta}$ to get $z_c$; the target image is passed through $f_{\\theta}$ (with shared weights) to get the true $z_t$; and $g_{\\phi}(z_c)$ produces a predicted $z_{pred}$. The loss is the mean-squared error (MSE) between $z_{pred}$ and $z_t$. Importantly, we apply random masking to input frames: we zero-out a random 20% of image pixels (or a random patch) in both context and target images during training. This encourages the model to learn a robust latent representation that can predict missing information​. (In more advanced setups, one might mask specific regions of the video and predict their features​ , but here we use simple random masks as a proxy.)"
      ],
      "metadata": {
        "id": "Uyt5pY9jPpMI"
      }
    },
    {
      "cell_type": "code",
      "source": [
        "import torch\n",
        "import torch.nn as nn\n",
        "import torch.nn.functional as F\n",
        "\n",
        "# Define the V-JEPA encoder (small CNN) and predictor MLP\n",
        "class VJEPAEncoder(nn.Module):\n",
        "    def __init__(self, latent_dim=2):\n",
        "        super().__init__()\n",
        "        # Simple CNN: 2 conv layers + 1 fully connected\n",
        "        self.conv1 = nn.Conv2d(3, 16, kernel_size=5, stride=2, padding=2)  # input 3x64x64 -> 16x32x32\n",
        "        self.conv2 = nn.Conv2d(16, 32, kernel_size=5, stride=2, padding=2) # 16x32x32 -> 32x16x16\n",
        "        self.fc = nn.Linear(32*16*16, latent_dim)\n",
        "\n",
        "    def forward(self, x):\n",
        "        # x: batch of images, shape (N, 3, 64, 64)\n",
        "        x = F.relu(self.conv1(x))\n",
        "        x = F.relu(self.conv2(x))\n",
        "        x = x.view(x.size(0), -1)       # flatten\n",
        "        z = self.fc(x)                  # latent representation\n",
        "        return z\n",
        "\n",
        "class VJEPAPredictor(nn.Module):\n",
        "    def __init__(self, latent_dim=2):\n",
        "        super().__init__()\n",
        "        self.mlp = nn.Sequential(\n",
        "            nn.Linear(latent_dim, 32),\n",
        "            nn.ReLU(),\n",
        "            nn.Linear(32, latent_dim)\n",
        "        )\n",
        "    def forward(self, z):\n",
        "        return self.mlp(z)\n",
        "\n",
        "# Initialize models\n",
        "latent_dim = 2\n",
        "encoder = VJEPAEncoder(latent_dim=latent_dim)\n",
        "predictor = VJEPAPredictor(latent_dim=latent_dim)\n",
        "\n",
        "# Optimizer\n",
        "optim = torch.optim.Adam(list(encoder.parameters()) + list(predictor.parameters()), lr=1e-3)\n"
      ],
      "metadata": {
        "id": "X7bzg02-Mb1S"
      },
      "execution_count": 2,
      "outputs": []
    },
    {
      "cell_type": "markdown",
      "source": [
        "Training V-JEPA: We iterate over the dataset of frame sequences. For each sequence, we randomly choose a context frame and a target frame (e.g., first and last frame, or a random pair with the target after the context in time). We apply a random mask to each frame (here implemented as random pixel dropout) and feed them through the encoder and predictor as described. The loss is calculated and used to update the networks."
      ],
      "metadata": {
        "id": "pKPbPVXWP6We"
      }
    },
    {
      "cell_type": "code",
      "source": [
        "# Prepare training data as PyTorch tensors\n",
        "# (We convert images to tensors and scale to [0,1].)\n",
        "frames_tensor = []\n",
        "for seq in frames:\n",
        "    # seq is a list of PIL images\n",
        "    seq_t = [torch.tensor(np.array(img), dtype=torch.float32).permute(2,0,1)/255.0 for img in seq]\n",
        "    frames_tensor.append(torch.stack(seq_t))  # shape (16, 3, 64,64) for each sequence\n",
        "frames_tensor = torch.stack(frames_tensor)    # shape (num_trajectories, 16, 3, 64,64)\n",
        "\n",
        "encoder.train()\n",
        "predictor.train()\n",
        "epochs = 10\n",
        "for epoch in range(epochs):\n",
        "    epoch_loss = 0.0\n",
        "    # Loop over each trajectory\n",
        "    for seq in frames_tensor:\n",
        "        # Randomly select context and target indices (ensure target comes after context for causality)\n",
        "        idx_context = 0\n",
        "        idx_target = seq.size(0) - 1   # e.g., use first and last frame for training (could randomize)\n",
        "        img_c = seq[idx_context:idx_context+1]  # shape (1,3,64,64)\n",
        "        img_t = seq[idx_target:idx_target+1]\n",
        "        # Apply random mask to images (20% of pixels)\n",
        "        mask_c = torch.rand_like(img_c) < 0.8   # 1 where we keep pixel (80%), 0 where we mask\n",
        "        mask_t = torch.rand_like(img_t) < 0.8\n",
        "        masked_c = img_c * mask_c\n",
        "        masked_t = img_t * mask_t\n",
        "        # Forward pass\n",
        "        z_c = encoder(masked_c)         # context latent\n",
        "        z_t = encoder(masked_t)         # target latent (using encoder as target branch)\n",
        "        z_pred = predictor(z_c)         # predicted target latent\n",
        "        loss = F.mse_loss(z_pred, z_t)  # prediction loss in latent space\n",
        "        # Backpropagation\n",
        "        optim.zero_grad()\n",
        "        loss.backward()\n",
        "        optim.step()\n",
        "        epoch_loss += loss.item()\n",
        "    epoch_loss /= len(frames_tensor)\n",
        "    if epoch % 2 == 0:\n",
        "        print(f\"Epoch {epoch}: VJEPA training loss = {epoch_loss:.4f}\")\n"
      ],
      "metadata": {
        "colab": {
          "base_uri": "https://localhost:8080/"
        },
        "id": "HLrga3UzMfOe",
        "outputId": "11e2d835-2edf-43f7-b45c-16276cfe80b5"
      },
      "execution_count": 3,
      "outputs": [
        {
          "output_type": "stream",
          "name": "stdout",
          "text": [
            "Epoch 0: VJEPA training loss = 0.0021\n",
            "Epoch 2: VJEPA training loss = 0.0001\n",
            "Epoch 4: VJEPA training loss = 0.0001\n",
            "Epoch 6: VJEPA training loss = 0.0000\n",
            "Epoch 8: VJEPA training loss = 0.0000\n"
          ]
        }
      ]
    },
    {
      "cell_type": "markdown",
      "source": [
        "Model Architecture: The HNN model learns a neural network $H_{\\theta}(q,p)$ that approximates the system’s Hamiltonian (energy). For a simple pendulum, the true Hamiltonian (with $m=l=1$) is $H = \\frac{1}{2}p^2 + (1-\\cos q)$, but the network will learn it from data. We use a small MLP for $H_{\\theta}$ that takes $(q,p)$ as input (2-dim) and outputs a scalar. The HNN then predicts dynamics by analytical differentiation of $H$ (autograd for easy calculations).\n",
        "\n",
        "Training data: We supervise the HNN using the true derivatives from our simulation. For each state $(q,p)$ in the training trajectories (excluding the last frame), we know the true $\\dot q$ and $\\dot p$ (either directly from the ODE or by finite difference between successive states). Here we will use the ODE: true $\\dot q = \\omega = p$, and true $\\dot p = -\\sin(q)$. We train the HNN to minimize MSE between predicted and true derivatives.\n",
        "\n",
        "By learning $H$ and using the above gradient relations, the HNN’s vector field is guaranteed to be conservative (zero energy dissipation). This inductive bias helps it respect conservation laws exactly​). Indeed, an HNN tends to produce trajectories that conserve the learned Hamiltonian over long times, unlike a generic neural net."
      ],
      "metadata": {
        "id": "MGb_EkvAP-y7"
      }
    },
    {
      "cell_type": "code",
      "source": [
        "# Define HNN model: an MLP that outputs scalar H, plus a method to get derivatives\n",
        "class HNN(nn.Module):\n",
        "    def __init__(self, hidden_dim=64):\n",
        "        super().__init__()\n",
        "        self.net = nn.Sequential(\n",
        "            nn.Linear(2, hidden_dim), nn.Tanh(),\n",
        "            nn.Linear(hidden_dim, hidden_dim), nn.Tanh(),\n",
        "            nn.Linear(hidden_dim, 1)  # output H scalar\n",
        "        )\n",
        "    def forward(self, x):\n",
        "        # x: tensor of shape (N,2) with [q, p]\n",
        "        H = self.net(x)  # shape (N,1)\n",
        "        return H\n",
        "\n",
        "    def time_derivative(self, x):\n",
        "        # Compute Hamiltonian derivatives to get [dq_dt, dp_dt]\n",
        "        # Ensure gradients can be computed\n",
        "        x = x.requires_grad_(True)\n",
        "        H = self.net(x).sum()  # sum to get scalar (for autograd grad)\n",
        "        # Compute gradient dH/dx = [dH/dq, dH/dp]\n",
        "        grad = torch.autograd.grad(H, x, create_graph=True)[0]  # shape (N,2)\n",
        "        dq_dt = grad[:, 1]          # dH/dp\n",
        "        dp_dt = -grad[:, 0]         # -dH/dq\n",
        "        return torch.stack([dq_dt, dp_dt], dim=1)  # shape (N,2)\n",
        "\n",
        "# Initialize HNN and optimizer\n",
        "hnn = HNN(hidden_dim=64)\n",
        "optimizer_hnn = torch.optim.Adam(hnn.parameters(), lr=1e-3)\n",
        "\n",
        "# Prepare training data for HNN (states and time derivatives)\n",
        "states = trajectories.reshape(-1, 2)            # all (q,p) pairs from all trajectories\n",
        "# True derivatives from ODE: [dq, dp] = [p, -sin(q)]\n",
        "q_vals = states[:, 0]\n",
        "p_vals = states[:, 1]\n",
        "true_dq = p_vals\n",
        "true_dp = -np.sin(q_vals)\n",
        "true_derivs = np.stack([true_dq, true_dp], axis=1)\n",
        "states_tensor = torch.tensor(states, dtype=torch.float32)\n",
        "derivs_tensor = torch.tensor(true_derivs, dtype=torch.float32)\n",
        "\n",
        "# Train HNN\n",
        "hnn.train()\n",
        "for epoch in range(101):\n",
        "    # Forward pass: predict derivatives via HNN\n",
        "    pred_deriv = hnn.time_derivative(states_tensor)\n",
        "    loss_hnn = F.mse_loss(pred_deriv, derivs_tensor)\n",
        "    optimizer_hnn.zero_grad()\n",
        "    loss_hnn.backward()\n",
        "    optimizer_hnn.step()\n",
        "    if epoch % 20 == 0:\n",
        "        print(f\"Epoch {epoch}: HNN training loss = {loss_hnn.item():.4f}\")\n"
      ],
      "metadata": {
        "colab": {
          "base_uri": "https://localhost:8080/"
        },
        "id": "qkRGOUhDMozp",
        "outputId": "8e3bb124-ed03-445d-8bb9-18a827f4b615"
      },
      "execution_count": 4,
      "outputs": [
        {
          "output_type": "stream",
          "name": "stdout",
          "text": [
            "Epoch 0: HNN training loss = 0.5467\n",
            "Epoch 20: HNN training loss = 0.2197\n",
            "Epoch 40: HNN training loss = 0.0379\n",
            "Epoch 60: HNN training loss = 0.0184\n",
            "Epoch 80: HNN training loss = 0.0107\n",
            "Epoch 100: HNN training loss = 0.0068\n"
          ]
        }
      ]
    },
    {
      "cell_type": "markdown",
      "source": [
        "The LNN model learns a neural network $L_{\\psi}(q, \\dot q)$ that approximates the system’s Lagrangian. For the pendulum, the true Lagrangian is $L = T - V = \\frac{1}{2}\\dot q^2 - (1-\\cos q)$, but again the network will learn it. We use an MLP that takes $(q, v)$ (where $v=\\dot q$) and outputs a scalar $L$.\n",
        "\n",
        "To predict accelerations use EL Equation.\n",
        "\n",
        "Training data: We supervise the LNN using the true accelerations $ \\ddot q$. For each state $(q, \\dot q)$ (except the last in a trajectory), we know $\\ddot q$ from the ODE ($\\ddot q = -\\sin q$). The loss is MSE between predicted and true $\\ddot q$."
      ],
      "metadata": {
        "id": "erbvwk2MQSmV"
      }
    },
    {
      "cell_type": "code",
      "source": [
        "class LNN(nn.Module):\n",
        "    def __init__(self, hidden_dim=64):\n",
        "        super().__init__()\n",
        "        self.net = nn.Sequential(\n",
        "            nn.Linear(2, hidden_dim), nn.Tanh(),\n",
        "            nn.Linear(hidden_dim, hidden_dim), nn.Tanh(),\n",
        "            nn.Linear(hidden_dim, 1)  # output L scalar\n",
        "        )\n",
        "    def forward(self, x):\n",
        "        # x: (N,2) with [q, v]\n",
        "        L_val = self.net(x)\n",
        "        return L_val\n",
        "\n",
        "    def acceleration(self, x):\n",
        "        # x: tensor of shape (N,2) = [q, v], requires grad for autograd\n",
        "        q = x[:,0:1]  # (N,1)\n",
        "        v = x[:,1:2]  # (N,1)\n",
        "        q = q.requires_grad_(True)\n",
        "        v = v.requires_grad_(True)\n",
        "        # Compute L\n",
        "        L = self.net(torch.cat([q, v], dim=1))\n",
        "        # First-order partials\n",
        "        dL_dq = torch.autograd.grad(L.sum(), q, create_graph=True)[0]       # ∂L/∂q, shape (N,1)\n",
        "        dL_dv = torch.autograd.grad(L.sum(), v, create_graph=True)[0]       # ∂L/∂v, shape (N,1)\n",
        "        # Second-order partials\n",
        "        # ∂²L/(∂v²) and ∂²L/(∂q∂v) via gradients of dL_dv\n",
        "        d2L = torch.autograd.grad(dL_dv.sum(), (q, v), create_graph=True)\n",
        "        d2L_qdv = d2L[0]   # ∂/∂q (dL/dv) = ∂²L/∂q∂v, shape (N,1)\n",
        "        d2L_v2  = d2L[1]   # ∂/∂v (dL/dv) = ∂²L/∂v², shape (N,1)\n",
        "        # Solve for acceleration: v_dot = (dL/dq - d2L_qdv * v) / d2L_v2\n",
        "        # (Add a small epsilon to denominator for numerical stability if needed)\n",
        "        accel = (dL_dq - d2L_qdv * v) / (d2L_v2 + 1e-8)\n",
        "        return accel  # (N,1)\n",
        "\n",
        "# Initialize LNN and optimizer\n",
        "lnn = LNN(hidden_dim=64)\n",
        "optimizer_lnn = torch.optim.Adam(lnn.parameters(), lr=1e-3)\n",
        "\n",
        "# Prepare training data for LNN: [q, v] and true v_dot (acceleration)\n",
        "states_qv = trajectories.reshape(-1, 2)  # [q, w] where w = v\n",
        "q_vals = states_qv[:,0]; w_vals = states_qv[:,1]\n",
        "true_vdot = -np.sin(q_vals)            # true acceleration\n",
        "states_qv_tensor = torch.tensor(states_qv, dtype=torch.float32)\n",
        "vdot_tensor = torch.tensor(true_vdot, dtype=torch.float32).unsqueeze(1)\n",
        "\n",
        "# Train LNN\n",
        "lnn.train()\n",
        "for epoch in range(101):\n",
        "    pred_vdot = lnn.acceleration(states_qv_tensor)       # predicted acceleration\n",
        "    loss_lnn = F.mse_loss(pred_vdot, vdot_tensor)\n",
        "    optimizer_lnn.zero_grad()\n",
        "    loss_lnn.backward()\n",
        "    optimizer_lnn.step()\n",
        "    if epoch % 20 == 0:\n",
        "        print(f\"Epoch {epoch}: LNN training loss = {loss_lnn.item():.4f}\")\n"
      ],
      "metadata": {
        "colab": {
          "base_uri": "https://localhost:8080/"
        },
        "id": "rsm6qSeWMqwz",
        "outputId": "c6207d05-93ee-40d0-d647-cac827b6d800"
      },
      "execution_count": 5,
      "outputs": [
        {
          "output_type": "stream",
          "name": "stdout",
          "text": [
            "Epoch 0: LNN training loss = 1903.9886\n",
            "Epoch 20: LNN training loss = 99750.9375\n",
            "Epoch 40: LNN training loss = 26664.6641\n",
            "Epoch 60: LNN training loss = 26666.5898\n",
            "Epoch 80: LNN training loss = 10105.1016\n",
            "Epoch 100: LNN training loss = 2926.3372\n"
          ]
        }
      ]
    },
    {
      "cell_type": "markdown",
      "source": [
        "\n",
        "With all models trained, we now analyze their learned representations in the phase space (the space of $q$ vs. $p$ or $q$ vs. $v$). We perform both qualitative visualization and quantitative evaluation:\n",
        "\n",
        "- We expect that V-JEPA’s latent embeddings correspond to the physical state of the pendulum, since it needed to capture the pendulum’s configuration to predict future frames. To verify this, we take a new pendulum trajectory and feed each frame through the V-JEPA encoder to get latent $z_t = (z_{t1}, z_{t2})$. We then plot these latent points against the true angle and angular velocity.\n",
        "- We can visualize the vector fields learned by HNN and LNN in the phase space and compare them to the true pendulum vector field. For a grid of points in $(q,p)$ space, we compute $\\dot q, \\dot p$.  Plotting the vector field arrows gives a global picture of each model’s learned dynamics. We expect HNN and LNN to closely match the true field since they were trained explicitly on derivatives."
      ],
      "metadata": {
        "id": "_qYYUzb9Qgbr"
      }
    },
    {
      "cell_type": "code",
      "source": [
        "import matplotlib.pyplot as plt\n",
        "\n",
        "# Disable grad for evaluation\n",
        "encoder.eval(); hnn.eval(); lnn.eval()\n",
        "\n",
        "# Simulate a new trajectory for evaluation\n",
        "q0_test, w0_test = 1.0, 0.0  # e.g., 1 rad amplitude, zero initial velocity\n",
        "t_seq, test_states = simulate_pendulum(q0_test, w0_test, T=6.0, steps=100)  # a longer trajectory\n",
        "test_imgs = [render_pendulum_image(q) for q, _ in test_states]\n",
        "\n",
        "# Get V-JEPA latents for each frame\n",
        "test_imgs_tensor = torch.stack([torch.tensor(np.array(img), dtype=torch.float32).permute(2,0,1)/255.0\n",
        "                                for img in test_imgs])  # (100,3,64,64)\n",
        "with torch.no_grad():\n",
        "    latents = encoder(test_imgs_tensor)  # shape (100, latent_dim)\n",
        "latents = latents.numpy()\n",
        "\n",
        "# Plot latent trajectory vs true phase trajectory\n",
        "true_q = test_states[:,0]\n",
        "true_w = test_states[:,1]\n",
        "plt.figure(figsize=(5,5))\n",
        "plt.plot(true_q, true_w, 'k--', label=\"True $(q, \\dot q)$\")            # true phase space path\n",
        "plt.scatter(latents[:,0], latents[:,1], c=np.linspace(0,1,len(latents)), cmap='viridis',\n",
        "            s=15, label=\"V-JEPA latent\", alpha=0.7)\n",
        "plt.xlabel(\"Dimension 1 of latent / (approx $q$)\")\n",
        "plt.ylabel(\"Dimension 2 of latent / (approx $\\\\dot q$)\")\n",
        "plt.title(\"V-JEPA Latent Trajectory vs True Phase Space\")\n",
        "plt.legend()\n",
        "plt.show()\n"
      ],
      "metadata": {
        "colab": {
          "base_uri": "https://localhost:8080/",
          "height": 491
        },
        "id": "M76FE4YlMs3G",
        "outputId": "664446d6-dbae-4e5b-a5cc-e44fae3dc535"
      },
      "execution_count": 6,
      "outputs": [
        {
          "output_type": "display_data",
          "data": {
            "text/plain": [
              "<Figure size 500x500 with 1 Axes>"
            ],
            "image/png": "[encoded data removed]"
          },
          "metadata": {}
        }
      ]
    }
  ]
}